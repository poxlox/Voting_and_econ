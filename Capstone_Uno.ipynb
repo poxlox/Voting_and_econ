{
 "cells": [
  {
   "cell_type": "code",
   "execution_count": 2,
   "metadata": {},
   "outputs": [],
   "source": [
    "import pandas as pd\n",
    "from bs4 import BeautifulSoup\n",
    "import requests\n",
    "import re\n",
    "import os\n",
    "import json"
   ]
  },
  {
   "cell_type": "code",
   "execution_count": 3,
   "metadata": {},
   "outputs": [],
   "source": [
    "def BEA(method, **kwargs):\n",
    "    '''\n",
    "    methods: getdatasetlist, getparameterlist, getparametervalues, getparametervaluesfiltered\n",
    "    params: datasetname, parametername, targetparameter, tablename, linecode, year, geoflips\n",
    "    '''\n",
    "    target = 'https://apps.bea.gov/api/data'\n",
    "    payload = {'UserID': os.environ['BEA_API_KEY'], 'method':method}\n",
    "    payload.update(kwargs)\n",
    "    return requests.get(target, params=payload)"
   ]
  },
  {
   "cell_type": "code",
   "execution_count": 4,
   "metadata": {},
   "outputs": [],
   "source": [
    "def clean_BEA(df,labelname):\n",
    "    df=df.drop(labels=['Code','CL_UNIT','NoteRef','UNIT_MULT','TimePeriod','GeoName'],axis=1)\n",
    "    df=df.astype({'GeoFips':'float64'})\n",
    "    df=df[df['GeoFips']%2==1]\n",
    "    df=df.rename(columns={'DataValue':labelname})\n",
    "    return df"
   ]
  },
  {
   "cell_type": "code",
   "execution_count": 5,
   "metadata": {},
   "outputs": [],
   "source": [
    "vote=pd.read_csv('CAPSTONE_1_files/countypres_2000-2016.csv')\n",
    "vote.rename(columns = {'FIPS':'GeoFips'}, inplace = True)\n",
    "vote=vote[vote['year']==2016]"
   ]
  },
  {
   "cell_type": "code",
   "execution_count": 6,
   "metadata": {},
   "outputs": [],
   "source": [
    "#df=pd.DataFrame.from_records(resp.json()['BEAAPI']['Results']['Data'])\n",
    "#method 1"
   ]
  },
  {
   "cell_type": "code",
   "execution_count": 7,
   "metadata": {},
   "outputs": [],
   "source": [
    "#df1=pd.read_json(json.dumps(resp.json()['BEAAPI']['Results']['Data']))\n",
    "#method 2"
   ]
  },
  {
   "cell_type": "code",
   "execution_count": 8,
   "metadata": {
    "scrolled": true
   },
   "outputs": [],
   "source": [
    "#df=pd.DataFrame.from_dict(resp.json()['BEAAPI']['Results']['Data'])\n",
    "#method 3"
   ]
  },
  {
   "cell_type": "code",
   "execution_count": 10,
   "metadata": {},
   "outputs": [],
   "source": [
    "resp=BEA('getdata', datasetname='regional',geofips='County',tablename='CAEMP25N',year='2016',linecode=10)\n",
    "#num jobs\n",
    "df=pd.DataFrame.from_records(resp.json()['BEAAPI']['Results']['Data'])\n",
    "df=clean_BEA(df,'num_jobs')\n",
    "merged=pd.merge(vote,df,how='left',on='GeoFips')"
   ]
  },
  {
   "cell_type": "code",
   "execution_count": 11,
   "metadata": {},
   "outputs": [],
   "source": [
    "resp=BEA('getdata', datasetname='regional',geofips='County',tablename='CAINC30',linecode=10)\n",
    "#personal income total\n",
    "df=pd.DataFrame.from_records(resp.json()['BEAAPI']['Results']['Data'])\n",
    "df=clean_BEA(df,'total_personal_income_thous')\n",
    "merged=pd.merge(merged,df,how='left',on='GeoFips')"
   ]
  },
  {
   "cell_type": "code",
   "execution_count": 12,
   "metadata": {},
   "outputs": [],
   "source": [
    "resp=BEA('getdata', datasetname='regional',geofips='County',tablename='CAINC45',year='2016',linecode=370)\n",
    "#farm income thousands\n",
    "df=pd.DataFrame.from_dict(resp.json()['BEAAPI']['Results']['Data'])\n",
    "df=clean_BEA(df,'Farm_income_thousands')\n",
    "merged=pd.merge(merged,df,how='left',on='GeoFips')"
   ]
  },
  {
   "cell_type": "code",
   "execution_count": 13,
   "metadata": {},
   "outputs": [],
   "source": [
    "resp=BEA('getdata', datasetname='regional',geofips='County',tablename='CAINC30',year='2016',linecode=110)\n",
    "#income/capita\n",
    "df=pd.DataFrame.from_dict(resp.json()['BEAAPI']['Results']['Data'])\n",
    "df=clean_BEA(df,'Income/Capita')\n",
    "merged=pd.merge(merged,df,how='left',on='GeoFips')"
   ]
  },
  {
   "cell_type": "code",
   "execution_count": 14,
   "metadata": {},
   "outputs": [],
   "source": [
    "resp=BEA('getdata', datasetname='regional',geofips='County',tablename='CAINC30',year='2016',linecode=100)\n",
    "#population\n",
    "df=pd.DataFrame.from_dict(resp.json()['BEAAPI']['Results']['Data'])\n",
    "df=clean_BEA(df,'population')\n",
    "merged=pd.merge(merged,df,how='left',on='GeoFips')"
   ]
  },
  {
   "cell_type": "code",
   "execution_count": 15,
   "metadata": {},
   "outputs": [],
   "source": [
    "resp=BEA('getdata', datasetname='regional',geofips='County',tablename='CAINC30',year='2016',linecode=290)\n",
    "#average salary\n",
    "df=pd.DataFrame.from_dict(resp.json()['BEAAPI']['Results']['Data'])\n",
    "df=clean_BEA(df,'avg_sal')\n",
    "merged=pd.merge(merged,df,how='left',on='GeoFips')"
   ]
  },
  {
   "cell_type": "code",
   "execution_count": 16,
   "metadata": {},
   "outputs": [],
   "source": [
    "df=pd.read_excel('CAPSTONE_1_files/laucnty16.xlsx', converters={'state_fips_Code':str, 'county_fips_code':str})\n",
    "df['GeoFips']=df['state_fips_Code']+df['county_fips_code']\n",
    "df=df.astype({'GeoFips':'float64'})\n",
    "df=df.drop(labels=['LAUS_Code','state_fips_Code','county_fips_code','Unnamed: 5', 'Year','County Name/State Abbreviation'], axis=1)\n",
    "merged=pd.merge(merged,df,how='left',on='GeoFips')"
   ]
  },
  {
   "cell_type": "code",
   "execution_count": 17,
   "metadata": {},
   "outputs": [
    {
     "data": {
      "text/html": [
       "<div>\n",
       "<style scoped>\n",
       "    .dataframe tbody tr th:only-of-type {\n",
       "        vertical-align: middle;\n",
       "    }\n",
       "\n",
       "    .dataframe tbody tr th {\n",
       "        vertical-align: top;\n",
       "    }\n",
       "\n",
       "    .dataframe thead th {\n",
       "        text-align: right;\n",
       "    }\n",
       "</style>\n",
       "<table border=\"1\" class=\"dataframe\">\n",
       "  <thead>\n",
       "    <tr style=\"text-align: right;\">\n",
       "      <th></th>\n",
       "      <th>year</th>\n",
       "      <th>state</th>\n",
       "      <th>state_po</th>\n",
       "      <th>county</th>\n",
       "      <th>GeoFips</th>\n",
       "      <th>office</th>\n",
       "      <th>candidate</th>\n",
       "      <th>party</th>\n",
       "      <th>candidatevotes</th>\n",
       "      <th>totalvotes</th>\n",
       "      <th>...</th>\n",
       "      <th>total_personal_income_thous</th>\n",
       "      <th>Farm_income_thousands</th>\n",
       "      <th>Income/Capita</th>\n",
       "      <th>population</th>\n",
       "      <th>avg_sal</th>\n",
       "      <th>labor_Force</th>\n",
       "      <th>Employed</th>\n",
       "      <th>Unemployed</th>\n",
       "      <th>Unemployment_Rate</th>\n",
       "      <th>share_vote</th>\n",
       "    </tr>\n",
       "  </thead>\n",
       "  <tbody>\n",
       "    <tr>\n",
       "      <th>0</th>\n",
       "      <td>2016</td>\n",
       "      <td>Alabama</td>\n",
       "      <td>AL</td>\n",
       "      <td>Autauga</td>\n",
       "      <td>1001.0</td>\n",
       "      <td>President</td>\n",
       "      <td>Hillary Clinton</td>\n",
       "      <td>democrat</td>\n",
       "      <td>5936.0</td>\n",
       "      <td>24973</td>\n",
       "      <td>...</td>\n",
       "      <td>2,116,276</td>\n",
       "      <td>3,073</td>\n",
       "      <td>39,509</td>\n",
       "      <td>55,278</td>\n",
       "      <td>36,966</td>\n",
       "      <td>25966.0</td>\n",
       "      <td>24645.0</td>\n",
       "      <td>1321.0</td>\n",
       "      <td>5.1</td>\n",
       "      <td>0.237697</td>\n",
       "    </tr>\n",
       "    <tr>\n",
       "      <th>1</th>\n",
       "      <td>2016</td>\n",
       "      <td>Alabama</td>\n",
       "      <td>AL</td>\n",
       "      <td>Autauga</td>\n",
       "      <td>1001.0</td>\n",
       "      <td>President</td>\n",
       "      <td>Hillary Clinton</td>\n",
       "      <td>democrat</td>\n",
       "      <td>5936.0</td>\n",
       "      <td>24973</td>\n",
       "      <td>...</td>\n",
       "      <td>2,183,987</td>\n",
       "      <td>3,073</td>\n",
       "      <td>39,509</td>\n",
       "      <td>55,278</td>\n",
       "      <td>36,966</td>\n",
       "      <td>25966.0</td>\n",
       "      <td>24645.0</td>\n",
       "      <td>1321.0</td>\n",
       "      <td>5.1</td>\n",
       "      <td>0.237697</td>\n",
       "    </tr>\n",
       "    <tr>\n",
       "      <th>2</th>\n",
       "      <td>2016</td>\n",
       "      <td>Alabama</td>\n",
       "      <td>AL</td>\n",
       "      <td>Autauga</td>\n",
       "      <td>1001.0</td>\n",
       "      <td>President</td>\n",
       "      <td>Hillary Clinton</td>\n",
       "      <td>democrat</td>\n",
       "      <td>5936.0</td>\n",
       "      <td>24973</td>\n",
       "      <td>...</td>\n",
       "      <td>2,247,046</td>\n",
       "      <td>3,073</td>\n",
       "      <td>39,509</td>\n",
       "      <td>55,278</td>\n",
       "      <td>36,966</td>\n",
       "      <td>25966.0</td>\n",
       "      <td>24645.0</td>\n",
       "      <td>1321.0</td>\n",
       "      <td>5.1</td>\n",
       "      <td>0.237697</td>\n",
       "    </tr>\n",
       "    <tr>\n",
       "      <th>3</th>\n",
       "      <td>2016</td>\n",
       "      <td>Alabama</td>\n",
       "      <td>AL</td>\n",
       "      <td>Autauga</td>\n",
       "      <td>1001.0</td>\n",
       "      <td>President</td>\n",
       "      <td>Donald Trump</td>\n",
       "      <td>republican</td>\n",
       "      <td>18172.0</td>\n",
       "      <td>24973</td>\n",
       "      <td>...</td>\n",
       "      <td>2,116,276</td>\n",
       "      <td>3,073</td>\n",
       "      <td>39,509</td>\n",
       "      <td>55,278</td>\n",
       "      <td>36,966</td>\n",
       "      <td>25966.0</td>\n",
       "      <td>24645.0</td>\n",
       "      <td>1321.0</td>\n",
       "      <td>5.1</td>\n",
       "      <td>0.727666</td>\n",
       "    </tr>\n",
       "    <tr>\n",
       "      <th>4</th>\n",
       "      <td>2016</td>\n",
       "      <td>Alabama</td>\n",
       "      <td>AL</td>\n",
       "      <td>Autauga</td>\n",
       "      <td>1001.0</td>\n",
       "      <td>President</td>\n",
       "      <td>Donald Trump</td>\n",
       "      <td>republican</td>\n",
       "      <td>18172.0</td>\n",
       "      <td>24973</td>\n",
       "      <td>...</td>\n",
       "      <td>2,183,987</td>\n",
       "      <td>3,073</td>\n",
       "      <td>39,509</td>\n",
       "      <td>55,278</td>\n",
       "      <td>36,966</td>\n",
       "      <td>25966.0</td>\n",
       "      <td>24645.0</td>\n",
       "      <td>1321.0</td>\n",
       "      <td>5.1</td>\n",
       "      <td>0.727666</td>\n",
       "    </tr>\n",
       "  </tbody>\n",
       "</table>\n",
       "<p>5 rows × 22 columns</p>\n",
       "</div>"
      ],
      "text/plain": [
       "   year    state state_po   county  GeoFips     office        candidate  \\\n",
       "0  2016  Alabama       AL  Autauga   1001.0  President  Hillary Clinton   \n",
       "1  2016  Alabama       AL  Autauga   1001.0  President  Hillary Clinton   \n",
       "2  2016  Alabama       AL  Autauga   1001.0  President  Hillary Clinton   \n",
       "3  2016  Alabama       AL  Autauga   1001.0  President     Donald Trump   \n",
       "4  2016  Alabama       AL  Autauga   1001.0  President     Donald Trump   \n",
       "\n",
       "        party  candidatevotes  totalvotes  ...  total_personal_income_thous  \\\n",
       "0    democrat          5936.0       24973  ...                    2,116,276   \n",
       "1    democrat          5936.0       24973  ...                    2,183,987   \n",
       "2    democrat          5936.0       24973  ...                    2,247,046   \n",
       "3  republican         18172.0       24973  ...                    2,116,276   \n",
       "4  republican         18172.0       24973  ...                    2,183,987   \n",
       "\n",
       "  Farm_income_thousands Income/Capita population avg_sal labor_Force Employed  \\\n",
       "0                 3,073        39,509     55,278  36,966     25966.0  24645.0   \n",
       "1                 3,073        39,509     55,278  36,966     25966.0  24645.0   \n",
       "2                 3,073        39,509     55,278  36,966     25966.0  24645.0   \n",
       "3                 3,073        39,509     55,278  36,966     25966.0  24645.0   \n",
       "4                 3,073        39,509     55,278  36,966     25966.0  24645.0   \n",
       "\n",
       "   Unemployed  Unemployment_Rate  share_vote  \n",
       "0      1321.0                5.1    0.237697  \n",
       "1      1321.0                5.1    0.237697  \n",
       "2      1321.0                5.1    0.237697  \n",
       "3      1321.0                5.1    0.727666  \n",
       "4      1321.0                5.1    0.727666  \n",
       "\n",
       "[5 rows x 22 columns]"
      ]
     },
     "execution_count": 17,
     "metadata": {},
     "output_type": "execute_result"
    }
   ],
   "source": [
    "df=merged\n",
    "df['share_vote']=df['candidatevotes']/df['totalvotes']\n",
    "df.head()"
   ]
  },
  {
   "cell_type": "code",
   "execution_count": 18,
   "metadata": {},
   "outputs": [],
   "source": []
  },
  {
   "cell_type": "code",
   "execution_count": null,
   "metadata": {},
   "outputs": [],
   "source": []
  }
 ],
 "metadata": {
  "kernelspec": {
   "display_name": "Python 3",
   "language": "python",
   "name": "python3"
  },
  "language_info": {
   "codemirror_mode": {
    "name": "ipython",
    "version": 3
   },
   "file_extension": ".py",
   "mimetype": "text/x-python",
   "name": "python",
   "nbconvert_exporter": "python",
   "pygments_lexer": "ipython3",
   "version": "3.7.3"
  }
 },
 "nbformat": 4,
 "nbformat_minor": 2
}
