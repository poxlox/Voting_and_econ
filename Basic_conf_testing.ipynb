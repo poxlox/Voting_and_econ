{
 "cells": [
  {
   "cell_type": "code",
   "execution_count": 171,
   "metadata": {},
   "outputs": [],
   "source": [
    "import pandas as pd\n",
    "import scipy.stats as stats\n",
    "import numpy as np\n",
    "import matplotlib.pyplot as plt\n",
    "%matplotlib inline"
   ]
  },
  {
   "cell_type": "code",
   "execution_count": 172,
   "metadata": {},
   "outputs": [
    {
     "name": "stdout",
     "output_type": "stream",
     "text": [
      "year of interest: 2000\n"
     ]
    }
   ],
   "source": [
    "yr=input('year of interest: ')"
   ]
  },
  {
   "cell_type": "code",
   "execution_count": 173,
   "metadata": {},
   "outputs": [],
   "source": [
    "df=pd.read_pickle(f'files/table{yr}.pkl')"
   ]
  },
  {
   "cell_type": "code",
   "execution_count": 174,
   "metadata": {
    "scrolled": true
   },
   "outputs": [
    {
     "data": {
      "text/plain": [
       "Index(['year', 'state', 'county', 'GeoFips', 'candidate', 'party',\n",
       "       'candidatevotes', 'totalvotes', 'num_jobs', 'Farm_income_thousands',\n",
       "       'Income/Capita', 'population', 'avg_sal', 'labor_Force', 'Employed',\n",
       "       'Unemployed', 'Unemployment_Rate'],\n",
       "      dtype='object')"
      ]
     },
     "execution_count": 174,
     "metadata": {},
     "output_type": "execute_result"
    }
   ],
   "source": [
    "df.columns"
   ]
  },
  {
   "cell_type": "code",
   "execution_count": 175,
   "metadata": {},
   "outputs": [],
   "source": [
    "df=df.drop(labels=['year','state','county','candidate'],axis=1)"
   ]
  },
  {
   "cell_type": "code",
   "execution_count": null,
   "metadata": {},
   "outputs": [],
   "source": []
  },
  {
   "cell_type": "code",
   "execution_count": 176,
   "metadata": {},
   "outputs": [],
   "source": [
    "df['share_vote']=df['candidatevotes']/df['totalvotes']"
   ]
  },
  {
   "cell_type": "code",
   "execution_count": 177,
   "metadata": {},
   "outputs": [],
   "source": [
    "dfr60=df[(df['share_vote']>=.6)&(df['party']=='republican')]"
   ]
  },
  {
   "cell_type": "code",
   "execution_count": 178,
   "metadata": {},
   "outputs": [],
   "source": [
    "dfd60=df[(df['share_vote']>=.6)&(df['party']=='democrat')]"
   ]
  },
  {
   "cell_type": "code",
   "execution_count": 179,
   "metadata": {},
   "outputs": [],
   "source": [
    "sampnD=len(dfd60)//2\n",
    "sampnR=len(dfr60)//2"
   ]
  },
  {
   "cell_type": "code",
   "execution_count": 180,
   "metadata": {},
   "outputs": [],
   "source": [
    "RFarm_income=[]\n",
    "RIncomeCapita=[]\n",
    "Rpopulation=[]\n",
    "Ravg_sal=[]\n",
    "RUnemploymentRate=[]\n",
    "for q in range(10000):\n",
    "    x=dfr60.sample(n=sampnR,replace=True,axis=0)\n",
    "    RFarm_income.append(x['Farm_income_thousands'].mean())\n",
    "    RIncomeCapita.append(x['Income/Capita'].mean())\n",
    "    Rpopulation.append(x['population'].mean())\n",
    "    Ravg_sal.append(x['avg_sal'].mean())\n",
    "    RUnemploymentRate.append(x['Unemployment_Rate'].mean())"
   ]
  },
  {
   "cell_type": "code",
   "execution_count": 181,
   "metadata": {},
   "outputs": [],
   "source": [
    "# plt.hist(Ravg_sal)"
   ]
  },
  {
   "cell_type": "code",
   "execution_count": 182,
   "metadata": {},
   "outputs": [],
   "source": [
    "DFarm_income=[]\n",
    "DIncomeCapita=[]\n",
    "Dpopulation=[]\n",
    "Davg_sal=[]\n",
    "DUnemploymentRate=[]\n",
    "for q in range(10000):\n",
    "    x=dfd60.sample(n=sampnD,replace=True,axis=0)\n",
    "    DFarm_income.append(x['Farm_income_thousands'].mean())\n",
    "    DIncomeCapita.append(x['Income/Capita'].mean())\n",
    "    Dpopulation.append(x['population'].mean())\n",
    "    Davg_sal.append(x['avg_sal'].mean())\n",
    "    DUnemploymentRate.append(x['Unemployment_Rate'].mean())"
   ]
  },
  {
   "cell_type": "code",
   "execution_count": 183,
   "metadata": {},
   "outputs": [],
   "source": [
    "# plt.hist(Davg_sal)"
   ]
  },
  {
   "cell_type": "code",
   "execution_count": 184,
   "metadata": {},
   "outputs": [],
   "source": [
    "exportls=[]"
   ]
  },
  {
   "cell_type": "code",
   "execution_count": 185,
   "metadata": {
    "scrolled": true
   },
   "outputs": [],
   "source": [
    "exportls.append([yr,'democrat',np.percentile(DFarm_income ,2.5), np.percentile(DFarm_income ,97.5), np.mean(DFarm_income),\n",
    "                 np.percentile(DIncomeCapita ,2.5), np.percentile(DIncomeCapita ,97.5), np.mean(DIncomeCapita), \n",
    "                 np.percentile(Dpopulation ,2.5), np.percentile(Dpopulation ,97.5), np.mean(Dpopulation), \n",
    "                 np.percentile(Davg_sal ,2.5), np.percentile(Davg_sal ,97.5), np.mean(Davg_sal), \n",
    "                 np.percentile(DUnemploymentRate ,2.5), np.percentile(DUnemploymentRate ,97.5), np.mean(DUnemploymentRate)])\n",
    "exportls.append([yr,'republican',np.percentile(RFarm_income ,2.5), np.percentile(RFarm_income ,97.5), np.mean(RFarm_income),\n",
    "                 np.percentile(RIncomeCapita ,2.5), np.percentile(RIncomeCapita ,97.5), np.mean(RIncomeCapita), \n",
    "                 np.percentile(Rpopulation ,2.5), np.percentile(Rpopulation ,97.5), np.mean(Rpopulation), \n",
    "                 np.percentile(Ravg_sal ,2.5), np.percentile(Ravg_sal ,97.5), np.mean(Ravg_sal), \n",
    "                 np.percentile(RUnemploymentRate ,2.5), np.percentile(RUnemploymentRate ,97.5), np.mean(RUnemploymentRate)])"
   ]
  },
  {
   "cell_type": "code",
   "execution_count": 186,
   "metadata": {},
   "outputs": [],
   "source": [
    "exportframe=pd.DataFrame(exportls,columns=['year','party','Farm_income_low', 'Farm_income_high','Farm_income_mean',\n",
    "                                  'Income/Capita_low','Income/Capita_high','Income/Capita_mean', 'population_low',\n",
    "                                 'population_high','population_mean','avg_sal_low','avg_sal_high','avg_sal_mean',\n",
    "                                 'Unemployment_Rate_low','Unemployment_Rate_high','Unemployment_Rate_mean'])\n"
   ]
  },
  {
   "cell_type": "code",
   "execution_count": 187,
   "metadata": {},
   "outputs": [],
   "source": [
    "exportframe.to_pickle(f'files/econ_quals_intervs{yr}')"
   ]
  }
 ],
 "metadata": {
  "kernelspec": {
   "display_name": "Python 3",
   "language": "python",
   "name": "python3"
  },
  "language_info": {
   "codemirror_mode": {
    "name": "ipython",
    "version": 3
   },
   "file_extension": ".py",
   "mimetype": "text/x-python",
   "name": "python",
   "nbconvert_exporter": "python",
   "pygments_lexer": "ipython3",
   "version": "3.7.3"
  }
 },
 "nbformat": 4,
 "nbformat_minor": 2
}
