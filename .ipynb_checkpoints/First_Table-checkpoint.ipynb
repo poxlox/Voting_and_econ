{
 "cells": [
  {
   "cell_type": "code",
   "execution_count": 90,
   "metadata": {},
   "outputs": [],
   "source": [
    "#presidency only comparison, 2016 data\n",
    "#election date in november justifies 2016 data over 2015"
   ]
  },
  {
   "cell_type": "code",
   "execution_count": 91,
   "metadata": {},
   "outputs": [],
   "source": [
    "import pandas as pd\n",
    "from bs4 import BeautifulSoup\n",
    "import requests\n",
    "import re\n",
    "import os\n",
    "import json"
   ]
  },
  {
   "cell_type": "code",
   "execution_count": 92,
   "metadata": {
    "scrolled": true
   },
   "outputs": [
    {
     "name": "stdout",
     "output_type": "stream",
     "text": [
      "input election year here: 2000\n"
     ]
    }
   ],
   "source": [
    "yr=input('input election year here: ')\n"
   ]
  },
  {
   "cell_type": "code",
   "execution_count": null,
   "metadata": {},
   "outputs": [],
   "source": []
  },
  {
   "cell_type": "code",
   "execution_count": null,
   "metadata": {},
   "outputs": [],
   "source": []
  },
  {
   "cell_type": "code",
   "execution_count": 93,
   "metadata": {},
   "outputs": [],
   "source": [
    "def BEA(method, **kwargs):\n",
    "    '''\n",
    "    methods: getdata, getdatasetlist, getparameterlist,\n",
    "        getparametervalues, getparametervaluesfiltered\n",
    "    params: datasetname, parametername, targetparameter, \n",
    "        tablename, linecode, year, geoflips\n",
    "    '''\n",
    "    target = 'https://apps.bea.gov/api/data'\n",
    "    payload = {'UserID': os.environ['BEA_API_KEY'], 'method':method}\n",
    "    payload.update(kwargs)\n",
    "    return requests.get(target, params=payload)"
   ]
  },
  {
   "cell_type": "code",
   "execution_count": 94,
   "metadata": {},
   "outputs": [],
   "source": [
    "def clean_BEA(df,labelname):\n",
    "    df=df[df['NoteRef'] != '(NA)']\n",
    "    df=df[df['NoteRef'] != '*']\n",
    "    df=df.drop(labels=['Code','CL_UNIT','NoteRef','UNIT_MULT',\n",
    "                       'TimePeriod','GeoName'],axis=1)\n",
    "    if ',' in df['DataValue'].iloc[0]:\n",
    "        df['DataValue']=df['DataValue'].str.replace(',', '').astype(float)\n",
    "    df=df.astype({'GeoFips':'float64','DataValue':'float64'})\n",
    "    df=df.rename(columns={'DataValue':labelname})\n",
    "    return df"
   ]
  },
  {
   "cell_type": "code",
   "execution_count": 95,
   "metadata": {},
   "outputs": [],
   "source": [
    "#vote import + clean\n",
    "vote=pd.read_csv('files/countypres_2000-2016.csv')\n",
    "vote.rename(columns = {'FIPS':'GeoFips'}, inplace = True)\n",
    "vote=vote[vote['year']==int(yr)]\n",
    "vote=vote.dropna(axis=0,how='any')\n",
    "vote=vote.drop(labels=['state_po','office','version'],axis=1)"
   ]
  },
  {
   "cell_type": "code",
   "execution_count": 96,
   "metadata": {},
   "outputs": [],
   "source": [
    "#df=pd.DataFrame.from_records(resp.json()['BEAAPI']['Results']['Data'])\n",
    "#method 1"
   ]
  },
  {
   "cell_type": "code",
   "execution_count": 97,
   "metadata": {},
   "outputs": [],
   "source": [
    "#df1=pd.read_json(json.dumps(resp.json()['BEAAPI']['Results']['Data']))\n",
    "#method 2"
   ]
  },
  {
   "cell_type": "code",
   "execution_count": 98,
   "metadata": {
    "scrolled": true
   },
   "outputs": [],
   "source": [
    "#df=pd.DataFrame.from_dict(resp.json()['BEAAPI']['Results']['Data'])\n",
    "#method 3"
   ]
  },
  {
   "cell_type": "code",
   "execution_count": 99,
   "metadata": {},
   "outputs": [],
   "source": [
    "resp=requests.get('https://www.nrcs.usda.gov/wps/portal/nrcs/detail/?cid=nrcs143_013697')\n",
    "#GeoFips data\n",
    "df=pd.read_html(resp.text)[0]\n",
    "df.drop(3232,inplace=True)\n",
    "df.rename(columns={'FIPS':'GeoFips'}, inplace=True)\n",
    "df=df.astype({'GeoFips':'float64'})\n",
    "df=df.drop(labels=['Name','State'],axis=1)\n",
    "merged=pd.merge(vote,df,how='inner',on='GeoFips')"
   ]
  },
  {
   "cell_type": "code",
   "execution_count": 101,
   "metadata": {},
   "outputs": [],
   "source": [
    "##DOES NOT TAKE 2000 DATA, 2001+\n",
    "if yr=='2000':\n",
    "    yr='2001'\n",
    "resp=BEA('getdata', datasetname='regional',geofips='County',tablename='CAEMP25N',year=yr,linecode=10)\n",
    "#num jobs\n",
    "df=pd.DataFrame.from_records(resp.json()['BEAAPI']['Results']['Data'])\n",
    "df=clean_BEA(df,'num_jobs')\n",
    "merged=pd.merge(merged,df,how='inner',on='GeoFips')\n",
    "yr='2000'"
   ]
  },
  {
   "cell_type": "code",
   "execution_count": 102,
   "metadata": {},
   "outputs": [],
   "source": [
    "# #useless, correlates with income/capita, derived from pop\n",
    "# resp=BEA('getdata', datasetname='regional',geofips='County',tablename='CAINC30',year='2016', linecode=10)\n",
    "# #personal income total\n",
    "# df=pd.DataFrame.from_records(resp.json()['BEAAPI']['Results']['Data'])\n",
    "# df=clean_BEA(df,'total_personal_income_thous')\n",
    "# merged=pd.merge(merged,df,how='inner',on='GeoFips')"
   ]
  },
  {
   "cell_type": "code",
   "execution_count": 103,
   "metadata": {},
   "outputs": [],
   "source": [
    "resp=BEA('getdata', datasetname='regional',geofips='County',tablename='CAINC45',year=yr,linecode=370)\n",
    "#farm income thousands\n",
    "df=pd.DataFrame.from_dict(resp.json()['BEAAPI']['Results']['Data'])\n",
    "df=clean_BEA(df,'Farm_income_thousands')\n",
    "merged=pd.merge(merged,df,how='inner',on='GeoFips')"
   ]
  },
  {
   "cell_type": "code",
   "execution_count": 104,
   "metadata": {},
   "outputs": [],
   "source": [
    "resp=BEA('getdata', datasetname='regional',geofips='County',tablename='CAINC30',year=yr,linecode=110)\n",
    "#income/capita\n",
    "df=pd.DataFrame.from_dict(resp.json()['BEAAPI']['Results']['Data'])\n",
    "df=clean_BEA(df,'Income/Capita')\n",
    "merged=pd.merge(merged,df,how='inner',on='GeoFips')"
   ]
  },
  {
   "cell_type": "code",
   "execution_count": 105,
   "metadata": {},
   "outputs": [],
   "source": [
    "resp=BEA('getdata', datasetname='regional',geofips='County',tablename='CAINC30',year=yr,linecode=100)\n",
    "#population\n",
    "df=pd.DataFrame.from_dict(resp.json()['BEAAPI']['Results']['Data'])\n",
    "df=clean_BEA(df,'population')\n",
    "merged=pd.merge(merged,df,how='inner',on='GeoFips')"
   ]
  },
  {
   "cell_type": "code",
   "execution_count": 106,
   "metadata": {},
   "outputs": [],
   "source": [
    "resp=BEA('getdata', datasetname='regional',geofips='County',tablename='CAINC30',year=yr,linecode=290)\n",
    "#average salary\n",
    "df=pd.DataFrame.from_dict(resp.json()['BEAAPI']['Results']['Data'])\n",
    "df=clean_BEA(df,'avg_sal')\n",
    "merged=pd.merge(merged,df,how='inner',on='GeoFips')"
   ]
  },
  {
   "cell_type": "code",
   "execution_count": 107,
   "metadata": {
    "scrolled": true
   },
   "outputs": [],
   "source": [
    "df=pd.read_excel(f'files/laucnty{yr[2:]}.xlsx', converters={'state_fips_Code':str, 'county_fips_code':str})\n",
    "#unemployment file\n",
    "df['GeoFips']=df['state_fips_Code']+df['county_fips_code']\n",
    "df=df.astype({'GeoFips':'float64'})\n",
    "df=df.drop(labels=['LAUS_Code','state_fips_Code','county_fips_code','Unnamed: 5', 'Year','County Name/State Abbreviation'], axis=1)\n",
    "merged=pd.merge(merged,df,how='inner',on='GeoFips')"
   ]
  },
  {
   "cell_type": "code",
   "execution_count": 108,
   "metadata": {},
   "outputs": [],
   "source": [
    "merged.to_pickle(f'./files/table{yr}.pkl')"
   ]
  },
  {
   "cell_type": "code",
   "execution_count": 109,
   "metadata": {},
   "outputs": [],
   "source": [
    "#remarks:\n",
    "#county is not divided by voting district. \n",
    "##Limitation cauced by FIPS (GeoFips) code for counties != voting district division\n",
    "##Prevents analysis with extra weight to elected outcome\n",
    "##Does not prevent economic profile to voting habit analysis\n",
    "#Crude GeoFips to voting district may be done without damaging economic values\n"
   ]
  },
  {
   "cell_type": "code",
   "execution_count": null,
   "metadata": {},
   "outputs": [],
   "source": []
  },
  {
   "cell_type": "code",
   "execution_count": null,
   "metadata": {},
   "outputs": [],
   "source": []
  }
 ],
 "metadata": {
  "kernelspec": {
   "display_name": "Python 3",
   "language": "python",
   "name": "python3"
  },
  "language_info": {
   "codemirror_mode": {
    "name": "ipython",
    "version": 3
   },
   "file_extension": ".py",
   "mimetype": "text/x-python",
   "name": "python",
   "nbconvert_exporter": "python",
   "pygments_lexer": "ipython3",
   "version": "3.7.3"
  }
 },
 "nbformat": 4,
 "nbformat_minor": 2
}
