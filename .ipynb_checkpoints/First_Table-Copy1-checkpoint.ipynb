{
 "cells": [
  {
   "cell_type": "code",
   "execution_count": 4,
   "metadata": {},
   "outputs": [],
   "source": [
    "#presidency only comparison, 2016 data\n",
    "#election date in november justifies 2016 data over 2015"
   ]
  },
  {
   "cell_type": "code",
   "execution_count": 3,
   "metadata": {},
   "outputs": [],
   "source": [
    "import pandas as pd\n",
    "from bs4 import BeautifulSoup\n",
    "import requests\n",
    "import re\n",
    "import os\n",
    "import json"
   ]
  },
  {
   "cell_type": "code",
   "execution_count": 3,
   "metadata": {},
   "outputs": [],
   "source": [
    "def BEA(method, **kwargs):\n",
    "    '''\n",
    "    methods: getdata, getdatasetlist, getparameterlist,\n",
    "        getparametervalues, getparametervaluesfiltered\n",
    "    params: datasetname, parametername, targetparameter, \n",
    "        tablename, linecode, year, geoflips\n",
    "    '''\n",
    "    target = 'https://apps.bea.gov/api/data'\n",
    "    payload = {'UserID': os.environ['BEA_API_KEY'], 'method':method}\n",
    "    payload.update(kwargs)\n",
    "    return requests.get(target, params=payload)"
   ]
  },
  {
   "cell_type": "code",
   "execution_count": 6,
   "metadata": {},
   "outputs": [],
   "source": [
    "def clean_BEA(df,labelname):\n",
    "    df=df[df['NoteRef'] != '(NA)']\n",
    "    df=df[df['NoteRef'] != '*']\n",
    "    df=df.drop(labels=['Code','CL_UNIT','NoteRef','UNIT_MULT',\n",
    "                       'TimePeriod','GeoName'],axis=1)\n",
    "    if ',' in df['DataValue'].iloc[0]:\n",
    "        df['DataValue']=df['DataValue'].str.replace(',', '').astype(float)\n",
    "    df=df.astype({'GeoFips':'float64','DataValue':'float64'})\n",
    "    df=df.rename(columns={'DataValue':labelname})\n",
    "    return df"
   ]
  },
  {
   "cell_type": "code",
   "execution_count": 4,
   "metadata": {},
   "outputs": [],
   "source": [
    "#vote import + clean\n",
    "vote=pd.read_csv('files/countypres_2000-2016.csv')\n",
    "vote.rename(columns = {'FIPS':'GeoFips'}, inplace = True)\n",
    "vote=vote[vote['year']==2016]\n",
    "vote=vote.dropna(axis=0,how='any')\n",
    "vote=vote.drop(labels=['state_po','office','version'],axis=1)"
   ]
  },
  {
   "cell_type": "code",
   "execution_count": 5,
   "metadata": {},
   "outputs": [
    {
     "data": {
      "text/html": [
       "<div>\n",
       "<style scoped>\n",
       "    .dataframe tbody tr th:only-of-type {\n",
       "        vertical-align: middle;\n",
       "    }\n",
       "\n",
       "    .dataframe tbody tr th {\n",
       "        vertical-align: top;\n",
       "    }\n",
       "\n",
       "    .dataframe thead th {\n",
       "        text-align: right;\n",
       "    }\n",
       "</style>\n",
       "<table border=\"1\" class=\"dataframe\">\n",
       "  <thead>\n",
       "    <tr style=\"text-align: right;\">\n",
       "      <th></th>\n",
       "      <th>year</th>\n",
       "      <th>state</th>\n",
       "      <th>state_po</th>\n",
       "      <th>county</th>\n",
       "      <th>GeoFips</th>\n",
       "      <th>office</th>\n",
       "      <th>candidate</th>\n",
       "      <th>party</th>\n",
       "      <th>candidatevotes</th>\n",
       "      <th>totalvotes</th>\n",
       "      <th>version</th>\n",
       "    </tr>\n",
       "  </thead>\n",
       "  <tbody>\n",
       "    <tr>\n",
       "      <th>41050</th>\n",
       "      <td>2016</td>\n",
       "      <td>Alabama</td>\n",
       "      <td>AL</td>\n",
       "      <td>Autauga</td>\n",
       "      <td>1001.0</td>\n",
       "      <td>President</td>\n",
       "      <td>Hillary Clinton</td>\n",
       "      <td>democrat</td>\n",
       "      <td>5936.0</td>\n",
       "      <td>24973</td>\n",
       "      <td>20190722</td>\n",
       "    </tr>\n",
       "    <tr>\n",
       "      <th>41051</th>\n",
       "      <td>2016</td>\n",
       "      <td>Alabama</td>\n",
       "      <td>AL</td>\n",
       "      <td>Autauga</td>\n",
       "      <td>1001.0</td>\n",
       "      <td>President</td>\n",
       "      <td>Donald Trump</td>\n",
       "      <td>republican</td>\n",
       "      <td>18172.0</td>\n",
       "      <td>24973</td>\n",
       "      <td>20190722</td>\n",
       "    </tr>\n",
       "    <tr>\n",
       "      <th>41053</th>\n",
       "      <td>2016</td>\n",
       "      <td>Alabama</td>\n",
       "      <td>AL</td>\n",
       "      <td>Baldwin</td>\n",
       "      <td>1003.0</td>\n",
       "      <td>President</td>\n",
       "      <td>Hillary Clinton</td>\n",
       "      <td>democrat</td>\n",
       "      <td>18458.0</td>\n",
       "      <td>95215</td>\n",
       "      <td>20190722</td>\n",
       "    </tr>\n",
       "    <tr>\n",
       "      <th>41054</th>\n",
       "      <td>2016</td>\n",
       "      <td>Alabama</td>\n",
       "      <td>AL</td>\n",
       "      <td>Baldwin</td>\n",
       "      <td>1003.0</td>\n",
       "      <td>President</td>\n",
       "      <td>Donald Trump</td>\n",
       "      <td>republican</td>\n",
       "      <td>72883.0</td>\n",
       "      <td>95215</td>\n",
       "      <td>20190722</td>\n",
       "    </tr>\n",
       "    <tr>\n",
       "      <th>41056</th>\n",
       "      <td>2016</td>\n",
       "      <td>Alabama</td>\n",
       "      <td>AL</td>\n",
       "      <td>Barbour</td>\n",
       "      <td>1005.0</td>\n",
       "      <td>President</td>\n",
       "      <td>Hillary Clinton</td>\n",
       "      <td>democrat</td>\n",
       "      <td>4871.0</td>\n",
       "      <td>10469</td>\n",
       "      <td>20190722</td>\n",
       "    </tr>\n",
       "  </tbody>\n",
       "</table>\n",
       "</div>"
      ],
      "text/plain": [
       "       year    state state_po   county  GeoFips     office        candidate  \\\n",
       "41050  2016  Alabama       AL  Autauga   1001.0  President  Hillary Clinton   \n",
       "41051  2016  Alabama       AL  Autauga   1001.0  President     Donald Trump   \n",
       "41053  2016  Alabama       AL  Baldwin   1003.0  President  Hillary Clinton   \n",
       "41054  2016  Alabama       AL  Baldwin   1003.0  President     Donald Trump   \n",
       "41056  2016  Alabama       AL  Barbour   1005.0  President  Hillary Clinton   \n",
       "\n",
       "            party  candidatevotes  totalvotes   version  \n",
       "41050    democrat          5936.0       24973  20190722  \n",
       "41051  republican         18172.0       24973  20190722  \n",
       "41053    democrat         18458.0       95215  20190722  \n",
       "41054  republican         72883.0       95215  20190722  \n",
       "41056    democrat          4871.0       10469  20190722  "
      ]
     },
     "execution_count": 5,
     "metadata": {},
     "output_type": "execute_result"
    }
   ],
   "source": [
    "vote.head()"
   ]
  },
  {
   "cell_type": "code",
   "execution_count": 8,
   "metadata": {},
   "outputs": [],
   "source": [
    "#df=pd.DataFrame.from_records(resp.json()['BEAAPI']['Results']['Data'])\n",
    "#method 1"
   ]
  },
  {
   "cell_type": "code",
   "execution_count": 9,
   "metadata": {},
   "outputs": [],
   "source": [
    "#df1=pd.read_json(json.dumps(resp.json()['BEAAPI']['Results']['Data']))\n",
    "#method 2"
   ]
  },
  {
   "cell_type": "code",
   "execution_count": 10,
   "metadata": {
    "scrolled": true
   },
   "outputs": [],
   "source": [
    "#df=pd.DataFrame.from_dict(resp.json()['BEAAPI']['Results']['Data'])\n",
    "#method 3"
   ]
  },
  {
   "cell_type": "code",
   "execution_count": 7,
   "metadata": {},
   "outputs": [],
   "source": [
    "resp=requests.get('https://www.nrcs.usda.gov/wps/portal/nrcs/detail/?cid=nrcs143_013697')\n",
    "#GeoFips data\n",
    "df=pd.read_html(resp.text)[0]\n",
    "df.drop(3232,inplace=True)\n",
    "df.rename(columns={'FIPS':'GeoFips'}, inplace=True)\n",
    "df=df.astype({'GeoFips':'float64'})\n",
    "df=df.drop(labels=['Name','State'],axis=1)\n",
    "merged=pd.merge(vote,df,how='inner',on='GeoFips')"
   ]
  },
  {
   "cell_type": "code",
   "execution_count": 10,
   "metadata": {},
   "outputs": [],
   "source": [
    "resp=BEA('getdata', datasetname='regional',geofips='County',tablename='CAEMP25N',year='2016',linecode=10)\n",
    "#num jobs\n",
    "df=pd.DataFrame.from_records(resp.json()['BEAAPI']['Results']['Data'])\n",
    "df=clean_BEA(df,'num_jobs')\n",
    "merged=pd.merge(merged,df,how='inner',on='GeoFips')"
   ]
  },
  {
   "cell_type": "code",
   "execution_count": 11,
   "metadata": {},
   "outputs": [],
   "source": [
    "resp=BEA('getdata', datasetname='regional',geofips='County',tablename='CAINC30',year='2016', linecode=10)\n",
    "#personal income total\n",
    "df=pd.DataFrame.from_records(resp.json()['BEAAPI']['Results']['Data'])\n",
    "df=clean_BEA(df,'total_personal_income_thous')\n",
    "merged=pd.merge(merged,df,how='inner',on='GeoFips')"
   ]
  },
  {
   "cell_type": "code",
   "execution_count": 12,
   "metadata": {},
   "outputs": [],
   "source": [
    "resp=BEA('getdata', datasetname='regional',geofips='County',tablename='CAINC45',year='2016',linecode=370)\n",
    "#farm income thousands\n",
    "df=pd.DataFrame.from_dict(resp.json()['BEAAPI']['Results']['Data'])\n",
    "df=clean_BEA(df,'Farm_income_thousands')\n",
    "merged=pd.merge(merged,df,how='inner',on='GeoFips')"
   ]
  },
  {
   "cell_type": "code",
   "execution_count": 13,
   "metadata": {},
   "outputs": [],
   "source": [
    "resp=BEA('getdata', datasetname='regional',geofips='County',tablename='CAINC30',year='2016',linecode=110)\n",
    "#income/capita\n",
    "df=pd.DataFrame.from_dict(resp.json()['BEAAPI']['Results']['Data'])\n",
    "df=clean_BEA(df,'Income/Capita')\n",
    "merged=pd.merge(merged,df,how='inner',on='GeoFips')"
   ]
  },
  {
   "cell_type": "code",
   "execution_count": 14,
   "metadata": {},
   "outputs": [],
   "source": [
    "resp=BEA('getdata', datasetname='regional',geofips='County',tablename='CAINC30',year='2016',linecode=100)\n",
    "#population\n",
    "df=pd.DataFrame.from_dict(resp.json()['BEAAPI']['Results']['Data'])\n",
    "df=clean_BEA(df,'population')\n",
    "merged=pd.merge(merged,df,how='inner',on='GeoFips')"
   ]
  },
  {
   "cell_type": "code",
   "execution_count": 15,
   "metadata": {},
   "outputs": [],
   "source": [
    "resp=BEA('getdata', datasetname='regional',geofips='County',tablename='CAINC30',year='2016',linecode=290)\n",
    "#average salary\n",
    "df=pd.DataFrame.from_dict(resp.json()['BEAAPI']['Results']['Data'])\n",
    "df=clean_BEA(df,'avg_sal')\n",
    "merged=pd.merge(merged,df,how='inner',on='GeoFips')"
   ]
  },
  {
   "cell_type": "code",
   "execution_count": 16,
   "metadata": {},
   "outputs": [],
   "source": [
    "df=pd.read_excel('files/laucnty16.xlsx', converters={'state_fips_Code':str, 'county_fips_code':str})\n",
    "#unemployment file\n",
    "df['GeoFips']=df['state_fips_Code']+df['county_fips_code']\n",
    "df=df.astype({'GeoFips':'float64'})\n",
    "df=df.drop(labels=['LAUS_Code','state_fips_Code','county_fips_code','Unnamed: 5', 'Year','County Name/State Abbreviation'], axis=1)\n",
    "merged=pd.merge(merged,df,how='inner',on='GeoFips')"
   ]
  },
  {
   "cell_type": "code",
   "execution_count": 19,
   "metadata": {
    "collapsed": true
   },
   "outputs": [
    {
     "name": "stdout",
     "output_type": "stream",
     "text": [
      "<class 'pandas.core.frame.DataFrame'>\n",
      "Int64Index: 6092 entries, 0 to 6091\n",
      "Data columns (total 22 columns):\n",
      "year                           6092 non-null int64\n",
      "state                          6092 non-null object\n",
      "state_po                       6092 non-null object\n",
      "county                         6092 non-null object\n",
      "GeoFips                        6092 non-null float64\n",
      "office                         6092 non-null object\n",
      "candidate                      6092 non-null object\n",
      "party                          6092 non-null object\n",
      "candidatevotes                 6092 non-null float64\n",
      "totalvotes                     6092 non-null int64\n",
      "version                        6092 non-null int64\n",
      "num_jobs                       6092 non-null float64\n",
      "total_personal_income_thous    6092 non-null float64\n",
      "Farm_income_thousands          6092 non-null float64\n",
      "Income/Capita                  6092 non-null float64\n",
      "population                     6092 non-null float64\n",
      "avg_sal                        6092 non-null float64\n",
      "labor_Force                    6092 non-null float64\n",
      "Employed                       6092 non-null float64\n",
      "Unemployed                     6092 non-null float64\n",
      "Unemployment_Rate              6092 non-null float64\n",
      "share_vote                     6092 non-null float64\n",
      "dtypes: float64(13), int64(3), object(6)\n",
      "memory usage: 1.1+ MB\n"
     ]
    }
   ],
   "source": [
    "df.info()"
   ]
  },
  {
   "cell_type": "code",
   "execution_count": 34,
   "metadata": {},
   "outputs": [],
   "source": [
    "df.to_pickle('./files/table.pkl')"
   ]
  },
  {
   "cell_type": "code",
   "execution_count": 23,
   "metadata": {
    "collapsed": true
   },
   "outputs": [
    {
     "ename": "NameError",
     "evalue": "name 'f' is not defined",
     "output_type": "error",
     "traceback": [
      "\u001b[0;31m---------------------------------------------------------------------------\u001b[0m",
      "\u001b[0;31mNameError\u001b[0m                                 Traceback (most recent call last)",
      "\u001b[0;32m<ipython-input-23-a9fcd54b25e7>\u001b[0m in \u001b[0;36m<module>\u001b[0;34m\u001b[0m\n\u001b[0;32m----> 1\u001b[0;31m \u001b[0mf\u001b[0m\u001b[0;34m\u001b[0m\u001b[0;34m\u001b[0m\u001b[0m\n\u001b[0m",
      "\u001b[0;31mNameError\u001b[0m: name 'f' is not defined"
     ]
    }
   ],
   "source": [
    "#remarks:\n",
    "#county is not divided by voting district. \n",
    "##Limitation cauced by FIPS (GeoFips) code for counties != voting district division\n",
    "##Prevents analysis with extra weight to elected outcome\n",
    "##Does not prevent economic profile to voting habit analysis\n",
    "#Crude GeoFips to voting district may be done without damaging economic values\n"
   ]
  },
  {
   "cell_type": "code",
   "execution_count": null,
   "metadata": {},
   "outputs": [],
   "source": []
  }
 ],
 "metadata": {
  "kernelspec": {
   "display_name": "Python 3",
   "language": "python",
   "name": "python3"
  },
  "language_info": {
   "codemirror_mode": {
    "name": "ipython",
    "version": 3
   },
   "file_extension": ".py",
   "mimetype": "text/x-python",
   "name": "python",
   "nbconvert_exporter": "python",
   "pygments_lexer": "ipython3",
   "version": "3.7.3"
  }
 },
 "nbformat": 4,
 "nbformat_minor": 2
}
