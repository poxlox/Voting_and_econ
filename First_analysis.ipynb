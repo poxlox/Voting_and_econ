{
 "cells": [
  {
   "cell_type": "code",
   "execution_count": 2,
   "metadata": {},
   "outputs": [],
   "source": [
    "import pandas as pd\n",
    "import os\n",
    "import scipy.stats as stats\n",
    "import matplotlib.pyplot as plt\n",
    "%matplotlib inline"
   ]
  },
  {
   "cell_type": "code",
   "execution_count": 3,
   "metadata": {},
   "outputs": [],
   "source": [
    "df=pd.read_pickle('files/table.pkl')\n",
    "unmodified=df"
   ]
  },
  {
   "cell_type": "code",
   "execution_count": 107,
   "metadata": {
    "scrolled": true
   },
   "outputs": [
    {
     "data": {
      "text/plain": [
       "Index(['year', 'state', 'county', 'GeoFips', 'candidate', 'party',\n",
       "       'candidatevotes', 'totalvotes', 'num_jobs',\n",
       "       'total_personal_income_thous', 'Farm_income_thousands', 'Income/Capita',\n",
       "       'population', 'avg_sal', 'labor_Force', 'Employed', 'Unemployed',\n",
       "       'Unemployment_Rate', 'share_vote'],\n",
       "      dtype='object')"
      ]
     },
     "execution_count": 107,
     "metadata": {},
     "output_type": "execute_result"
    }
   ],
   "source": [
    "cols=df.columns\n",
    "cols"
   ]
  },
  {
   "cell_type": "code",
   "execution_count": 110,
   "metadata": {},
   "outputs": [],
   "source": [
    "useless_columns=[0,2,4]\n",
    "df=df.drop(labels=[cols[x] for x in useless_columns],axis=1)"
   ]
  },
  {
   "cell_type": "code",
   "execution_count": 112,
   "metadata": {},
   "outputs": [
    {
     "data": {
      "text/plain": [
       "Index(['state', 'GeoFips', 'party', 'candidatevotes', 'totalvotes', 'num_jobs',\n",
       "       'total_personal_income_thous', 'Farm_income_thousands', 'Income/Capita',\n",
       "       'population', 'avg_sal', 'labor_Force', 'Employed', 'Unemployed',\n",
       "       'Unemployment_Rate', 'share_vote'],\n",
       "      dtype='object')"
      ]
     },
     "execution_count": 112,
     "metadata": {},
     "output_type": "execute_result"
    }
   ],
   "source": [
    "df.columns"
   ]
  },
  {
   "cell_type": "code",
   "execution_count": 84,
   "metadata": {},
   "outputs": [],
   "source": [
    "#demographic accuracy check on data\n",
    "#checking for loss"
   ]
  },
  {
   "cell_type": "code",
   "execution_count": 113,
   "metadata": {},
   "outputs": [],
   "source": [
    "#arbitrary split\n",
    "dft=df[df['party']=='republican']"
   ]
  },
  {
   "cell_type": "code",
   "execution_count": 114,
   "metadata": {},
   "outputs": [
    {
     "data": {
      "text/plain": [
       "314074680.0"
      ]
     },
     "execution_count": 114,
     "metadata": {},
     "output_type": "execute_result"
    }
   ],
   "source": [
    "dft['population'].sum()\n",
    "#lost ~6mil"
   ]
  },
  {
   "cell_type": "code",
   "execution_count": null,
   "metadata": {},
   "outputs": [],
   "source": []
  },
  {
   "cell_type": "code",
   "execution_count": 144,
   "metadata": {
    "scrolled": true
   },
   "outputs": [
    {
     "data": {
      "text/plain": [
       "array(['Alabama', 'Arizona', 'Arkansas', 'California', 'Colorado',\n",
       "       'Connecticut', 'Delaware', 'District of Columbia', 'Florida',\n",
       "       'Georgia', 'Hawaii', 'Idaho', 'Illinois', 'Indiana', 'Iowa',\n",
       "       'Kansas', 'Kentucky', 'Louisiana', 'Maine', 'Maryland',\n",
       "       'Massachusetts', 'Michigan', 'Minnesota', 'Mississippi',\n",
       "       'Missouri', 'Montana', 'Nebraska', 'Nevada', 'New Hampshire',\n",
       "       'New Jersey', 'New Mexico', 'New York', 'North Carolina',\n",
       "       'North Dakota', 'Ohio', 'Oklahoma', 'Oregon', 'Pennsylvania',\n",
       "       'Rhode Island', 'South Carolina', 'South Dakota', 'Tennessee',\n",
       "       'Texas', 'Utah', 'Vermont', 'Virginia', 'Washington',\n",
       "       'West Virginia', 'Wisconsin', 'Wyoming'], dtype=object)"
      ]
     },
     "execution_count": 144,
     "metadata": {},
     "output_type": "execute_result"
    }
   ],
   "source": [
    "dft['state'].unique()"
   ]
  },
  {
   "cell_type": "code",
   "execution_count": 146,
   "metadata": {},
   "outputs": [
    {
     "data": {
      "text/plain": [
       "50"
      ]
     },
     "execution_count": 146,
     "metadata": {},
     "output_type": "execute_result"
    }
   ],
   "source": [
    "x=['Alabama', 'Arizona', 'Arkansas', 'California', 'Colorado',\n",
    "       'Connecticut', 'Delaware', 'District of Columbia', 'Florida',\n",
    "       'Georgia', 'Hawaii', 'Idaho', 'Illinois', 'Indiana', 'Iowa',\n",
    "       'Kansas', 'Kentucky', 'Louisiana', 'Maine', 'Maryland',\n",
    "       'Massachusetts', 'Michigan', 'Minnesota', 'Mississippi',\n",
    "       'Missouri', 'Montana', 'Nebraska', 'Nevada', 'New Hampshire',\n",
    "       'New Jersey', 'New Mexico', 'New York', 'North Carolina',\n",
    "       'North Dakota', 'Ohio', 'Oklahoma', 'Oregon', 'Pennsylvania',\n",
    "       'Rhode Island', 'South Carolina', 'South Dakota', 'Tennessee',\n",
    "       'Texas', 'Utah', 'Vermont', 'Virginia', 'Washington',\n",
    "       'West Virginia', 'Wisconsin', 'Wyoming']\n",
    "len(x)"
   ]
  },
  {
   "cell_type": "code",
   "execution_count": 136,
   "metadata": {},
   "outputs": [],
   "source": [
    "s=dft.groupby(by=['state']).sum()"
   ]
  },
  {
   "cell_type": "code",
   "execution_count": 133,
   "metadata": {},
   "outputs": [
    {
     "data": {
      "text/plain": [
       "39296476.0"
      ]
     },
     "execution_count": 133,
     "metadata": {},
     "output_type": "execute_result"
    }
   ],
   "source": [
    "s.loc['California']['population']"
   ]
  },
  {
   "cell_type": "code",
   "execution_count": null,
   "metadata": {},
   "outputs": [],
   "source": []
  },
  {
   "cell_type": "code",
   "execution_count": 4,
   "metadata": {},
   "outputs": [
    {
     "data": {
      "text/html": [
       "<div>\n",
       "<style scoped>\n",
       "    .dataframe tbody tr th:only-of-type {\n",
       "        vertical-align: middle;\n",
       "    }\n",
       "\n",
       "    .dataframe tbody tr th {\n",
       "        vertical-align: top;\n",
       "    }\n",
       "\n",
       "    .dataframe thead th {\n",
       "        text-align: right;\n",
       "    }\n",
       "</style>\n",
       "<table border=\"1\" class=\"dataframe\">\n",
       "  <thead>\n",
       "    <tr style=\"text-align: right;\">\n",
       "      <th></th>\n",
       "      <th>year</th>\n",
       "      <th>state</th>\n",
       "      <th>county</th>\n",
       "      <th>GeoFips</th>\n",
       "      <th>candidate</th>\n",
       "      <th>party</th>\n",
       "      <th>candidatevotes</th>\n",
       "      <th>totalvotes</th>\n",
       "      <th>num_jobs</th>\n",
       "      <th>total_personal_income_thous</th>\n",
       "      <th>Farm_income_thousands</th>\n",
       "      <th>Income/Capita</th>\n",
       "      <th>population</th>\n",
       "      <th>avg_sal</th>\n",
       "      <th>labor_Force</th>\n",
       "      <th>Employed</th>\n",
       "      <th>Unemployed</th>\n",
       "      <th>Unemployment_Rate</th>\n",
       "      <th>share_vote</th>\n",
       "    </tr>\n",
       "  </thead>\n",
       "  <tbody>\n",
       "    <tr>\n",
       "      <th>0</th>\n",
       "      <td>2016</td>\n",
       "      <td>Alabama</td>\n",
       "      <td>Autauga</td>\n",
       "      <td>1001.0</td>\n",
       "      <td>Hillary Clinton</td>\n",
       "      <td>democrat</td>\n",
       "      <td>5936.0</td>\n",
       "      <td>24973</td>\n",
       "      <td>17445.0</td>\n",
       "      <td>2183987.0</td>\n",
       "      <td>3073.0</td>\n",
       "      <td>39509.0</td>\n",
       "      <td>55278.0</td>\n",
       "      <td>36966.0</td>\n",
       "      <td>25966.0</td>\n",
       "      <td>24645.0</td>\n",
       "      <td>1321.0</td>\n",
       "      <td>5.1</td>\n",
       "      <td>0.237697</td>\n",
       "    </tr>\n",
       "    <tr>\n",
       "      <th>1</th>\n",
       "      <td>2016</td>\n",
       "      <td>Alabama</td>\n",
       "      <td>Autauga</td>\n",
       "      <td>1001.0</td>\n",
       "      <td>Donald Trump</td>\n",
       "      <td>republican</td>\n",
       "      <td>18172.0</td>\n",
       "      <td>24973</td>\n",
       "      <td>17445.0</td>\n",
       "      <td>2183987.0</td>\n",
       "      <td>3073.0</td>\n",
       "      <td>39509.0</td>\n",
       "      <td>55278.0</td>\n",
       "      <td>36966.0</td>\n",
       "      <td>25966.0</td>\n",
       "      <td>24645.0</td>\n",
       "      <td>1321.0</td>\n",
       "      <td>5.1</td>\n",
       "      <td>0.727666</td>\n",
       "    </tr>\n",
       "    <tr>\n",
       "      <th>2</th>\n",
       "      <td>2016</td>\n",
       "      <td>Alabama</td>\n",
       "      <td>Baldwin</td>\n",
       "      <td>1003.0</td>\n",
       "      <td>Hillary Clinton</td>\n",
       "      <td>democrat</td>\n",
       "      <td>18458.0</td>\n",
       "      <td>95215</td>\n",
       "      <td>107855.0</td>\n",
       "      <td>8923673.0</td>\n",
       "      <td>15316.0</td>\n",
       "      <td>43004.0</td>\n",
       "      <td>207509.0</td>\n",
       "      <td>36078.0</td>\n",
       "      <td>90670.0</td>\n",
       "      <td>85839.0</td>\n",
       "      <td>4831.0</td>\n",
       "      <td>5.3</td>\n",
       "      <td>0.193856</td>\n",
       "    </tr>\n",
       "    <tr>\n",
       "      <th>3</th>\n",
       "      <td>2016</td>\n",
       "      <td>Alabama</td>\n",
       "      <td>Baldwin</td>\n",
       "      <td>1003.0</td>\n",
       "      <td>Donald Trump</td>\n",
       "      <td>republican</td>\n",
       "      <td>72883.0</td>\n",
       "      <td>95215</td>\n",
       "      <td>107855.0</td>\n",
       "      <td>8923673.0</td>\n",
       "      <td>15316.0</td>\n",
       "      <td>43004.0</td>\n",
       "      <td>207509.0</td>\n",
       "      <td>36078.0</td>\n",
       "      <td>90670.0</td>\n",
       "      <td>85839.0</td>\n",
       "      <td>4831.0</td>\n",
       "      <td>5.3</td>\n",
       "      <td>0.765457</td>\n",
       "    </tr>\n",
       "    <tr>\n",
       "      <th>4</th>\n",
       "      <td>2016</td>\n",
       "      <td>Alabama</td>\n",
       "      <td>Barbour</td>\n",
       "      <td>1005.0</td>\n",
       "      <td>Hillary Clinton</td>\n",
       "      <td>democrat</td>\n",
       "      <td>4871.0</td>\n",
       "      <td>10469</td>\n",
       "      <td>11633.0</td>\n",
       "      <td>818333.0</td>\n",
       "      <td>28166.0</td>\n",
       "      <td>31750.0</td>\n",
       "      <td>25774.0</td>\n",
       "      <td>38418.0</td>\n",
       "      <td>8417.0</td>\n",
       "      <td>7717.0</td>\n",
       "      <td>700.0</td>\n",
       "      <td>8.3</td>\n",
       "      <td>0.465278</td>\n",
       "    </tr>\n",
       "  </tbody>\n",
       "</table>\n",
       "</div>"
      ],
      "text/plain": [
       "   year    state   county  GeoFips        candidate       party  \\\n",
       "0  2016  Alabama  Autauga   1001.0  Hillary Clinton    democrat   \n",
       "1  2016  Alabama  Autauga   1001.0     Donald Trump  republican   \n",
       "2  2016  Alabama  Baldwin   1003.0  Hillary Clinton    democrat   \n",
       "3  2016  Alabama  Baldwin   1003.0     Donald Trump  republican   \n",
       "4  2016  Alabama  Barbour   1005.0  Hillary Clinton    democrat   \n",
       "\n",
       "   candidatevotes  totalvotes  num_jobs  total_personal_income_thous  \\\n",
       "0          5936.0       24973   17445.0                    2183987.0   \n",
       "1         18172.0       24973   17445.0                    2183987.0   \n",
       "2         18458.0       95215  107855.0                    8923673.0   \n",
       "3         72883.0       95215  107855.0                    8923673.0   \n",
       "4          4871.0       10469   11633.0                     818333.0   \n",
       "\n",
       "   Farm_income_thousands  Income/Capita  population  avg_sal  labor_Force  \\\n",
       "0                 3073.0        39509.0     55278.0  36966.0      25966.0   \n",
       "1                 3073.0        39509.0     55278.0  36966.0      25966.0   \n",
       "2                15316.0        43004.0    207509.0  36078.0      90670.0   \n",
       "3                15316.0        43004.0    207509.0  36078.0      90670.0   \n",
       "4                28166.0        31750.0     25774.0  38418.0       8417.0   \n",
       "\n",
       "   Employed  Unemployed  Unemployment_Rate  share_vote  \n",
       "0   24645.0      1321.0                5.1    0.237697  \n",
       "1   24645.0      1321.0                5.1    0.727666  \n",
       "2   85839.0      4831.0                5.3    0.193856  \n",
       "3   85839.0      4831.0                5.3    0.765457  \n",
       "4    7717.0       700.0                8.3    0.465278  "
      ]
     },
     "execution_count": 4,
     "metadata": {},
     "output_type": "execute_result"
    }
   ],
   "source": [
    "unmodified.head()"
   ]
  },
  {
   "cell_type": "code",
   "execution_count": 7,
   "metadata": {},
   "outputs": [
    {
     "data": {
      "text/plain": [
       "count    6092.000000\n",
       "mean        5.206533\n",
       "std         1.822234\n",
       "min         1.700000\n",
       "25%         4.000000\n",
       "50%         4.900000\n",
       "75%         6.100000\n",
       "max        24.100000\n",
       "Name: Unemployment_Rate, dtype: float64"
      ]
     },
     "execution_count": 7,
     "metadata": {},
     "output_type": "execute_result"
    }
   ],
   "source": [
    "unmodified['Unemployment_Rate'].describe()"
   ]
  },
  {
   "cell_type": "code",
   "execution_count": null,
   "metadata": {},
   "outputs": [],
   "source": []
  },
  {
   "cell_type": "code",
   "execution_count": null,
   "metadata": {},
   "outputs": [],
   "source": []
  },
  {
   "cell_type": "code",
   "execution_count": 141,
   "metadata": {
    "collapsed": true
   },
   "outputs": [
    {
     "ename": "KeyError",
     "evalue": "'state'",
     "output_type": "error",
     "traceback": [
      "\u001b[0;31m---------------------------------------------------------------------------\u001b[0m",
      "\u001b[0;31mKeyError\u001b[0m                                  Traceback (most recent call last)",
      "\u001b[0;32m~/anaconda3/lib/python3.7/site-packages/pandas/core/indexes/base.py\u001b[0m in \u001b[0;36mget_loc\u001b[0;34m(self, key, method, tolerance)\u001b[0m\n\u001b[1;32m   2656\u001b[0m             \u001b[0;32mtry\u001b[0m\u001b[0;34m:\u001b[0m\u001b[0;34m\u001b[0m\u001b[0;34m\u001b[0m\u001b[0m\n\u001b[0;32m-> 2657\u001b[0;31m                 \u001b[0;32mreturn\u001b[0m \u001b[0mself\u001b[0m\u001b[0;34m.\u001b[0m\u001b[0m_engine\u001b[0m\u001b[0;34m.\u001b[0m\u001b[0mget_loc\u001b[0m\u001b[0;34m(\u001b[0m\u001b[0mkey\u001b[0m\u001b[0;34m)\u001b[0m\u001b[0;34m\u001b[0m\u001b[0;34m\u001b[0m\u001b[0m\n\u001b[0m\u001b[1;32m   2658\u001b[0m             \u001b[0;32mexcept\u001b[0m \u001b[0mKeyError\u001b[0m\u001b[0;34m:\u001b[0m\u001b[0;34m\u001b[0m\u001b[0;34m\u001b[0m\u001b[0m\n",
      "\u001b[0;32mpandas/_libs/index.pyx\u001b[0m in \u001b[0;36mpandas._libs.index.IndexEngine.get_loc\u001b[0;34m()\u001b[0m\n",
      "\u001b[0;32mpandas/_libs/index.pyx\u001b[0m in \u001b[0;36mpandas._libs.index.IndexEngine.get_loc\u001b[0;34m()\u001b[0m\n",
      "\u001b[0;32mpandas/_libs/hashtable_class_helper.pxi\u001b[0m in \u001b[0;36mpandas._libs.hashtable.PyObjectHashTable.get_item\u001b[0;34m()\u001b[0m\n",
      "\u001b[0;32mpandas/_libs/hashtable_class_helper.pxi\u001b[0m in \u001b[0;36mpandas._libs.hashtable.PyObjectHashTable.get_item\u001b[0;34m()\u001b[0m\n",
      "\u001b[0;31mKeyError\u001b[0m: 'state'",
      "\nDuring handling of the above exception, another exception occurred:\n",
      "\u001b[0;31mKeyError\u001b[0m                                  Traceback (most recent call last)",
      "\u001b[0;32m<ipython-input-141-63efd1a7fdf9>\u001b[0m in \u001b[0;36m<module>\u001b[0;34m\u001b[0m\n\u001b[0;32m----> 1\u001b[0;31m \u001b[0ms\u001b[0m\u001b[0;34m[\u001b[0m\u001b[0;34m'state'\u001b[0m\u001b[0;34m]\u001b[0m\u001b[0;34m\u001b[0m\u001b[0;34m\u001b[0m\u001b[0m\n\u001b[0m",
      "\u001b[0;32m~/anaconda3/lib/python3.7/site-packages/pandas/core/frame.py\u001b[0m in \u001b[0;36m__getitem__\u001b[0;34m(self, key)\u001b[0m\n\u001b[1;32m   2925\u001b[0m             \u001b[0;32mif\u001b[0m \u001b[0mself\u001b[0m\u001b[0;34m.\u001b[0m\u001b[0mcolumns\u001b[0m\u001b[0;34m.\u001b[0m\u001b[0mnlevels\u001b[0m \u001b[0;34m>\u001b[0m \u001b[0;36m1\u001b[0m\u001b[0;34m:\u001b[0m\u001b[0;34m\u001b[0m\u001b[0;34m\u001b[0m\u001b[0m\n\u001b[1;32m   2926\u001b[0m                 \u001b[0;32mreturn\u001b[0m \u001b[0mself\u001b[0m\u001b[0;34m.\u001b[0m\u001b[0m_getitem_multilevel\u001b[0m\u001b[0;34m(\u001b[0m\u001b[0mkey\u001b[0m\u001b[0;34m)\u001b[0m\u001b[0;34m\u001b[0m\u001b[0;34m\u001b[0m\u001b[0m\n\u001b[0;32m-> 2927\u001b[0;31m             \u001b[0mindexer\u001b[0m \u001b[0;34m=\u001b[0m \u001b[0mself\u001b[0m\u001b[0;34m.\u001b[0m\u001b[0mcolumns\u001b[0m\u001b[0;34m.\u001b[0m\u001b[0mget_loc\u001b[0m\u001b[0;34m(\u001b[0m\u001b[0mkey\u001b[0m\u001b[0;34m)\u001b[0m\u001b[0;34m\u001b[0m\u001b[0;34m\u001b[0m\u001b[0m\n\u001b[0m\u001b[1;32m   2928\u001b[0m             \u001b[0;32mif\u001b[0m \u001b[0mis_integer\u001b[0m\u001b[0;34m(\u001b[0m\u001b[0mindexer\u001b[0m\u001b[0;34m)\u001b[0m\u001b[0;34m:\u001b[0m\u001b[0;34m\u001b[0m\u001b[0;34m\u001b[0m\u001b[0m\n\u001b[1;32m   2929\u001b[0m                 \u001b[0mindexer\u001b[0m \u001b[0;34m=\u001b[0m \u001b[0;34m[\u001b[0m\u001b[0mindexer\u001b[0m\u001b[0;34m]\u001b[0m\u001b[0;34m\u001b[0m\u001b[0;34m\u001b[0m\u001b[0m\n",
      "\u001b[0;32m~/anaconda3/lib/python3.7/site-packages/pandas/core/indexes/base.py\u001b[0m in \u001b[0;36mget_loc\u001b[0;34m(self, key, method, tolerance)\u001b[0m\n\u001b[1;32m   2657\u001b[0m                 \u001b[0;32mreturn\u001b[0m \u001b[0mself\u001b[0m\u001b[0;34m.\u001b[0m\u001b[0m_engine\u001b[0m\u001b[0;34m.\u001b[0m\u001b[0mget_loc\u001b[0m\u001b[0;34m(\u001b[0m\u001b[0mkey\u001b[0m\u001b[0;34m)\u001b[0m\u001b[0;34m\u001b[0m\u001b[0;34m\u001b[0m\u001b[0m\n\u001b[1;32m   2658\u001b[0m             \u001b[0;32mexcept\u001b[0m \u001b[0mKeyError\u001b[0m\u001b[0;34m:\u001b[0m\u001b[0;34m\u001b[0m\u001b[0;34m\u001b[0m\u001b[0m\n\u001b[0;32m-> 2659\u001b[0;31m                 \u001b[0;32mreturn\u001b[0m \u001b[0mself\u001b[0m\u001b[0;34m.\u001b[0m\u001b[0m_engine\u001b[0m\u001b[0;34m.\u001b[0m\u001b[0mget_loc\u001b[0m\u001b[0;34m(\u001b[0m\u001b[0mself\u001b[0m\u001b[0;34m.\u001b[0m\u001b[0m_maybe_cast_indexer\u001b[0m\u001b[0;34m(\u001b[0m\u001b[0mkey\u001b[0m\u001b[0;34m)\u001b[0m\u001b[0;34m)\u001b[0m\u001b[0;34m\u001b[0m\u001b[0;34m\u001b[0m\u001b[0m\n\u001b[0m\u001b[1;32m   2660\u001b[0m         \u001b[0mindexer\u001b[0m \u001b[0;34m=\u001b[0m \u001b[0mself\u001b[0m\u001b[0;34m.\u001b[0m\u001b[0mget_indexer\u001b[0m\u001b[0;34m(\u001b[0m\u001b[0;34m[\u001b[0m\u001b[0mkey\u001b[0m\u001b[0;34m]\u001b[0m\u001b[0;34m,\u001b[0m \u001b[0mmethod\u001b[0m\u001b[0;34m=\u001b[0m\u001b[0mmethod\u001b[0m\u001b[0;34m,\u001b[0m \u001b[0mtolerance\u001b[0m\u001b[0;34m=\u001b[0m\u001b[0mtolerance\u001b[0m\u001b[0;34m)\u001b[0m\u001b[0;34m\u001b[0m\u001b[0;34m\u001b[0m\u001b[0m\n\u001b[1;32m   2661\u001b[0m         \u001b[0;32mif\u001b[0m \u001b[0mindexer\u001b[0m\u001b[0;34m.\u001b[0m\u001b[0mndim\u001b[0m \u001b[0;34m>\u001b[0m \u001b[0;36m1\u001b[0m \u001b[0;32mor\u001b[0m \u001b[0mindexer\u001b[0m\u001b[0;34m.\u001b[0m\u001b[0msize\u001b[0m \u001b[0;34m>\u001b[0m \u001b[0;36m1\u001b[0m\u001b[0;34m:\u001b[0m\u001b[0;34m\u001b[0m\u001b[0;34m\u001b[0m\u001b[0m\n",
      "\u001b[0;32mpandas/_libs/index.pyx\u001b[0m in \u001b[0;36mpandas._libs.index.IndexEngine.get_loc\u001b[0;34m()\u001b[0m\n",
      "\u001b[0;32mpandas/_libs/index.pyx\u001b[0m in \u001b[0;36mpandas._libs.index.IndexEngine.get_loc\u001b[0;34m()\u001b[0m\n",
      "\u001b[0;32mpandas/_libs/hashtable_class_helper.pxi\u001b[0m in \u001b[0;36mpandas._libs.hashtable.PyObjectHashTable.get_item\u001b[0;34m()\u001b[0m\n",
      "\u001b[0;32mpandas/_libs/hashtable_class_helper.pxi\u001b[0m in \u001b[0;36mpandas._libs.hashtable.PyObjectHashTable.get_item\u001b[0;34m()\u001b[0m\n",
      "\u001b[0;31mKeyError\u001b[0m: 'state'"
     ]
    }
   ],
   "source": []
  },
  {
   "cell_type": "code",
   "execution_count": 126,
   "metadata": {},
   "outputs": [
    {
     "data": {
      "text/plain": [
       "86476"
      ]
     },
     "execution_count": 126,
     "metadata": {},
     "output_type": "execute_result"
    }
   ],
   "source": [
    "39296476-39210000"
   ]
  },
  {
   "cell_type": "code",
   "execution_count": 139,
   "metadata": {},
   "outputs": [
    {
     "data": {
      "text/plain": [
       "GeoFips                        5.447740e+05\n",
       "candidatevotes                 5.120580e+05\n",
       "totalvotes                     1.125385e+06\n",
       "num_jobs                       1.724769e+06\n",
       "total_personal_income_thous    1.307568e+08\n",
       "Farm_income_thousands          8.862600e+04\n",
       "Income/Capita                  7.207800e+05\n",
       "population                     2.939254e+06\n",
       "avg_sal                        9.339080e+05\n",
       "labor_Force                    1.424145e+06\n",
       "Employed                       1.342473e+06\n",
       "Unemployed                     8.167200e+04\n",
       "Unemployment_Rate              9.630000e+01\n",
       "share_vote                     1.133756e+01\n",
       "Name: Nevada, dtype: float64"
      ]
     },
     "execution_count": 139,
     "metadata": {},
     "output_type": "execute_result"
    }
   ],
   "source": [
    "s.loc['Nevada']"
   ]
  },
  {
   "cell_type": "code",
   "execution_count": null,
   "metadata": {},
   "outputs": [],
   "source": []
  },
  {
   "cell_type": "code",
   "execution_count": null,
   "metadata": {},
   "outputs": [],
   "source": []
  },
  {
   "cell_type": "code",
   "execution_count": 116,
   "metadata": {
    "collapsed": true
   },
   "outputs": [
    {
     "data": {
      "text/html": [
       "<div>\n",
       "<style scoped>\n",
       "    .dataframe tbody tr th:only-of-type {\n",
       "        vertical-align: middle;\n",
       "    }\n",
       "\n",
       "    .dataframe tbody tr th {\n",
       "        vertical-align: top;\n",
       "    }\n",
       "\n",
       "    .dataframe thead th {\n",
       "        text-align: right;\n",
       "    }\n",
       "</style>\n",
       "<table border=\"1\" class=\"dataframe\">\n",
       "  <thead>\n",
       "    <tr style=\"text-align: right;\">\n",
       "      <th></th>\n",
       "      <th>state</th>\n",
       "      <th>GeoFips</th>\n",
       "      <th>party</th>\n",
       "      <th>candidatevotes</th>\n",
       "      <th>totalvotes</th>\n",
       "      <th>num_jobs</th>\n",
       "      <th>total_personal_income_thous</th>\n",
       "      <th>Farm_income_thousands</th>\n",
       "      <th>Income/Capita</th>\n",
       "      <th>population</th>\n",
       "      <th>avg_sal</th>\n",
       "      <th>labor_Force</th>\n",
       "      <th>Employed</th>\n",
       "      <th>Unemployed</th>\n",
       "      <th>Unemployment_Rate</th>\n",
       "      <th>share_vote</th>\n",
       "    </tr>\n",
       "  </thead>\n",
       "  <tbody>\n",
       "    <tr>\n",
       "      <th>1</th>\n",
       "      <td>Alabama</td>\n",
       "      <td>1001.0</td>\n",
       "      <td>republican</td>\n",
       "      <td>18172.0</td>\n",
       "      <td>24973</td>\n",
       "      <td>17445.0</td>\n",
       "      <td>2183987.0</td>\n",
       "      <td>3073.0</td>\n",
       "      <td>39509.0</td>\n",
       "      <td>55278.0</td>\n",
       "      <td>36966.0</td>\n",
       "      <td>25966.0</td>\n",
       "      <td>24645.0</td>\n",
       "      <td>1321.0</td>\n",
       "      <td>5.1</td>\n",
       "      <td>0.727666</td>\n",
       "    </tr>\n",
       "    <tr>\n",
       "      <th>3</th>\n",
       "      <td>Alabama</td>\n",
       "      <td>1003.0</td>\n",
       "      <td>republican</td>\n",
       "      <td>72883.0</td>\n",
       "      <td>95215</td>\n",
       "      <td>107855.0</td>\n",
       "      <td>8923673.0</td>\n",
       "      <td>15316.0</td>\n",
       "      <td>43004.0</td>\n",
       "      <td>207509.0</td>\n",
       "      <td>36078.0</td>\n",
       "      <td>90670.0</td>\n",
       "      <td>85839.0</td>\n",
       "      <td>4831.0</td>\n",
       "      <td>5.3</td>\n",
       "      <td>0.765457</td>\n",
       "    </tr>\n",
       "    <tr>\n",
       "      <th>5</th>\n",
       "      <td>Alabama</td>\n",
       "      <td>1005.0</td>\n",
       "      <td>republican</td>\n",
       "      <td>5454.0</td>\n",
       "      <td>10469</td>\n",
       "      <td>11633.0</td>\n",
       "      <td>818333.0</td>\n",
       "      <td>28166.0</td>\n",
       "      <td>31750.0</td>\n",
       "      <td>25774.0</td>\n",
       "      <td>38418.0</td>\n",
       "      <td>8417.0</td>\n",
       "      <td>7717.0</td>\n",
       "      <td>700.0</td>\n",
       "      <td>8.3</td>\n",
       "      <td>0.520967</td>\n",
       "    </tr>\n",
       "    <tr>\n",
       "      <th>7</th>\n",
       "      <td>Alabama</td>\n",
       "      <td>1007.0</td>\n",
       "      <td>republican</td>\n",
       "      <td>6738.0</td>\n",
       "      <td>8819</td>\n",
       "      <td>6459.0</td>\n",
       "      <td>656112.0</td>\n",
       "      <td>2022.0</td>\n",
       "      <td>28989.0</td>\n",
       "      <td>22633.0</td>\n",
       "      <td>39766.0</td>\n",
       "      <td>8623.0</td>\n",
       "      <td>8067.0</td>\n",
       "      <td>556.0</td>\n",
       "      <td>6.4</td>\n",
       "      <td>0.764032</td>\n",
       "    </tr>\n",
       "    <tr>\n",
       "      <th>9</th>\n",
       "      <td>Alabama</td>\n",
       "      <td>1009.0</td>\n",
       "      <td>republican</td>\n",
       "      <td>22859.0</td>\n",
       "      <td>25588</td>\n",
       "      <td>15218.0</td>\n",
       "      <td>1857001.0</td>\n",
       "      <td>12620.0</td>\n",
       "      <td>32261.0</td>\n",
       "      <td>57562.0</td>\n",
       "      <td>32868.0</td>\n",
       "      <td>24623.0</td>\n",
       "      <td>23298.0</td>\n",
       "      <td>1325.0</td>\n",
       "      <td>5.4</td>\n",
       "      <td>0.893348</td>\n",
       "    </tr>\n",
       "  </tbody>\n",
       "</table>\n",
       "</div>"
      ],
      "text/plain": [
       "     state  GeoFips       party  candidatevotes  totalvotes  num_jobs  \\\n",
       "1  Alabama   1001.0  republican         18172.0       24973   17445.0   \n",
       "3  Alabama   1003.0  republican         72883.0       95215  107855.0   \n",
       "5  Alabama   1005.0  republican          5454.0       10469   11633.0   \n",
       "7  Alabama   1007.0  republican          6738.0        8819    6459.0   \n",
       "9  Alabama   1009.0  republican         22859.0       25588   15218.0   \n",
       "\n",
       "   total_personal_income_thous  Farm_income_thousands  Income/Capita  \\\n",
       "1                    2183987.0                 3073.0        39509.0   \n",
       "3                    8923673.0                15316.0        43004.0   \n",
       "5                     818333.0                28166.0        31750.0   \n",
       "7                     656112.0                 2022.0        28989.0   \n",
       "9                    1857001.0                12620.0        32261.0   \n",
       "\n",
       "   population  avg_sal  labor_Force  Employed  Unemployed  Unemployment_Rate  \\\n",
       "1     55278.0  36966.0      25966.0   24645.0      1321.0                5.1   \n",
       "3    207509.0  36078.0      90670.0   85839.0      4831.0                5.3   \n",
       "5     25774.0  38418.0       8417.0    7717.0       700.0                8.3   \n",
       "7     22633.0  39766.0       8623.0    8067.0       556.0                6.4   \n",
       "9     57562.0  32868.0      24623.0   23298.0      1325.0                5.4   \n",
       "\n",
       "   share_vote  \n",
       "1    0.727666  \n",
       "3    0.765457  \n",
       "5    0.520967  \n",
       "7    0.764032  \n",
       "9    0.893348  "
      ]
     },
     "execution_count": 116,
     "metadata": {},
     "output_type": "execute_result"
    }
   ],
   "source": [
    "dft.head()"
   ]
  },
  {
   "cell_type": "code",
   "execution_count": null,
   "metadata": {},
   "outputs": [],
   "source": []
  },
  {
   "cell_type": "code",
   "execution_count": null,
   "metadata": {},
   "outputs": [],
   "source": []
  },
  {
   "cell_type": "code",
   "execution_count": null,
   "metadata": {},
   "outputs": [],
   "source": [
    "#proceceed assuming loss is acceptable"
   ]
  },
  {
   "cell_type": "code",
   "execution_count": null,
   "metadata": {},
   "outputs": [],
   "source": [
    "\n",
    "df['share_vote']=df['candidatevotes']/df['totalvotes']"
   ]
  },
  {
   "cell_type": "code",
   "execution_count": null,
   "metadata": {},
   "outputs": [],
   "source": [
    "#split by candidate"
   ]
  },
  {
   "cell_type": "code",
   "execution_count": 8,
   "metadata": {},
   "outputs": [],
   "source": [
    "df16T=df[df['party']=='republican']"
   ]
  },
  {
   "cell_type": "code",
   "execution_count": 9,
   "metadata": {},
   "outputs": [],
   "source": [
    "df16H=df[df['party']=='democrat']"
   ]
  },
  {
   "cell_type": "code",
   "execution_count": null,
   "metadata": {},
   "outputs": [],
   "source": [
    "#district view for "
   ]
  },
  {
   "cell_type": "code",
   "execution_count": 22,
   "metadata": {
    "collapsed": true
   },
   "outputs": [
    {
     "name": "stdout",
     "output_type": "stream",
     "text": [
      "the pearson corr and p-val for Tvotes and num_jobs is (-0.3599006777460907, 8.118636456247571e-94)\n",
      "the pearson corr and p-val for Hvotes and num_jobs is (0.36202002465508465, 5.5476797679820525e-95)\n",
      "the pearson corr and p-val for Tvotes and total_personal_income_thous is (-0.3518124941952667, 1.8884744285641608e-89)\n",
      "the pearson corr and p-val for Hvotes and total_personal_income_thous is (0.3554078451517264, 2.2428512883472852e-91)\n",
      "the pearson corr and p-val for Tvotes and Farm_income_thousands is (-0.12230519539132617, 1.2634518818960389e-11)\n",
      "the pearson corr and p-val for Hvotes and Farm_income_thousands is (0.10734050452384607, 2.869087221004658e-09)\n",
      "the pearson corr and p-val for Tvotes and Income/Capita is (-0.24579393377015013, 3.77022887341649e-43)\n",
      "the pearson corr and p-val for Hvotes and Income/Capita is (0.20855926892030208, 2.770114340326044e-31)\n",
      "the pearson corr and p-val for Tvotes and population is (-0.35456773111055284, 6.352252272908418e-91)\n",
      "the pearson corr and p-val for Hvotes and population is (0.3573443281273316, 2.0109298158164092e-92)\n",
      "the pearson corr and p-val for Tvotes and avg_sal is (-0.375367367850149, 1.5808564721991163e-102)\n",
      "the pearson corr and p-val for Hvotes and avg_sal is (0.3501025154684122, 1.52416162588842e-88)\n",
      "the pearson corr and p-val for Tvotes and labor_Force is (-0.35937014770934866, 1.584246114314318e-93)\n",
      "the pearson corr and p-val for Hvotes and labor_Force is (0.3611308776608789, 1.7143839978090198e-94)\n",
      "the pearson corr and p-val for Tvotes and Employed is (-0.35987161648552357, 8.421735199863176e-94)\n",
      "the pearson corr and p-val for Hvotes and Employed is (0.36141250351054344, 1.199711697866872e-94)\n",
      "the pearson corr and p-val for Tvotes and Unemployed is (-0.34332996393327, 5.247115054224519e-85)\n",
      "the pearson corr and p-val for Hvotes and Unemployed is (0.3491953764552568, 4.5905439565244995e-88)\n",
      "the pearson corr and p-val for Tvotes and Unemployment_Rate is (-0.11443494376211177, 2.389549657433676e-10)\n",
      "the pearson corr and p-val for Hvotes and Unemployment_Rate is (0.17591776977768064, 1.3533687183096517e-22)\n"
     ]
    }
   ],
   "source": [
    "#print view\n",
    "for x in df.columns[11:21]:\n",
    "    t=stats.pearsonr(df16T['share_vote'], df16T[x])\n",
    "    h=stats.pearsonr(df16H['share_vote'], df16H[x])\n",
    "    print(f'the pearson corr and p-val for Tvotes and {x} is {t}')\n",
    "    print(f'the pearson corr and p-val for Hvotes and {x} is {h}')"
   ]
  },
  {
   "cell_type": "code",
   "execution_count": 28,
   "metadata": {},
   "outputs": [],
   "source": [
    "#creating dataframes for each candidate\n",
    "trum=[]\n",
    "hill=[]\n",
    "for x in df.columns[11:21]:\n",
    "    t=stats.pearsonr(df16T['share_vote'], df16T[x])\n",
    "    trum.append([t[0],t[1],x])\n",
    "    h=stats.pearsonr(df16H['share_vote'], df16H[x])\n",
    "    hill.append([h[0],h[1],x])"
   ]
  },
  {
   "cell_type": "code",
   "execution_count": 35,
   "metadata": {},
   "outputs": [],
   "source": [
    "dft=pd.DataFrame(trum)\n",
    "dft=dft.rename(columns={0:'corr',1:'p',2:'var'})\n",
    "dft.set_index('var',inplace=True)"
   ]
  },
  {
   "cell_type": "code",
   "execution_count": 42,
   "metadata": {},
   "outputs": [],
   "source": [
    "dfh=pd.DataFrame(hill)\n",
    "dfh=dfh.rename(columns={0:'corr',1:'p',2:'var'})\n",
    "dfh.set_index('var',inplace=True)"
   ]
  },
  {
   "cell_type": "code",
   "execution_count": 45,
   "metadata": {
    "collapsed": true
   },
   "outputs": [
    {
     "data": {
      "text/html": [
       "<div>\n",
       "<style scoped>\n",
       "    .dataframe tbody tr th:only-of-type {\n",
       "        vertical-align: middle;\n",
       "    }\n",
       "\n",
       "    .dataframe tbody tr th {\n",
       "        vertical-align: top;\n",
       "    }\n",
       "\n",
       "    .dataframe thead th {\n",
       "        text-align: right;\n",
       "    }\n",
       "</style>\n",
       "<table border=\"1\" class=\"dataframe\">\n",
       "  <thead>\n",
       "    <tr style=\"text-align: right;\">\n",
       "      <th></th>\n",
       "      <th>corr</th>\n",
       "      <th>p</th>\n",
       "    </tr>\n",
       "    <tr>\n",
       "      <th>var</th>\n",
       "      <th></th>\n",
       "      <th></th>\n",
       "    </tr>\n",
       "  </thead>\n",
       "  <tbody>\n",
       "    <tr>\n",
       "      <th>num_jobs</th>\n",
       "      <td>-0.359901</td>\n",
       "      <td>8.118636e-94</td>\n",
       "    </tr>\n",
       "    <tr>\n",
       "      <th>total_personal_income_thous</th>\n",
       "      <td>-0.351812</td>\n",
       "      <td>1.888474e-89</td>\n",
       "    </tr>\n",
       "    <tr>\n",
       "      <th>Farm_income_thousands</th>\n",
       "      <td>-0.122305</td>\n",
       "      <td>1.263452e-11</td>\n",
       "    </tr>\n",
       "    <tr>\n",
       "      <th>Income/Capita</th>\n",
       "      <td>-0.245794</td>\n",
       "      <td>3.770229e-43</td>\n",
       "    </tr>\n",
       "    <tr>\n",
       "      <th>population</th>\n",
       "      <td>-0.354568</td>\n",
       "      <td>6.352252e-91</td>\n",
       "    </tr>\n",
       "  </tbody>\n",
       "</table>\n",
       "</div>"
      ],
      "text/plain": [
       "                                 corr             p\n",
       "var                                                \n",
       "num_jobs                    -0.359901  8.118636e-94\n",
       "total_personal_income_thous -0.351812  1.888474e-89\n",
       "Farm_income_thousands       -0.122305  1.263452e-11\n",
       "Income/Capita               -0.245794  3.770229e-43\n",
       "population                  -0.354568  6.352252e-91"
      ]
     },
     "execution_count": 45,
     "metadata": {},
     "output_type": "execute_result"
    }
   ],
   "source": [
    "dft.head()"
   ]
  },
  {
   "cell_type": "code",
   "execution_count": 8,
   "metadata": {
    "scrolled": true
   },
   "outputs": [
    {
     "ename": "NameError",
     "evalue": "name 'dft' is not defined",
     "output_type": "error",
     "traceback": [
      "\u001b[0;31m---------------------------------------------------------------------------\u001b[0m",
      "\u001b[0;31mNameError\u001b[0m                                 Traceback (most recent call last)",
      "\u001b[0;32m<ipython-input-8-47384ce81596>\u001b[0m in \u001b[0;36m<module>\u001b[0;34m\u001b[0m\n\u001b[1;32m      1\u001b[0m \u001b[0;31m#some degree of certainty for p-value\u001b[0m\u001b[0;34m\u001b[0m\u001b[0;34m\u001b[0m\u001b[0;34m\u001b[0m\u001b[0m\n\u001b[0;32m----> 2\u001b[0;31m \u001b[0mdft\u001b[0m\u001b[0;34m.\u001b[0m\u001b[0msort_values\u001b[0m\u001b[0;34m(\u001b[0m\u001b[0mby\u001b[0m\u001b[0;34m=\u001b[0m\u001b[0;34m'corr'\u001b[0m\u001b[0;34m)\u001b[0m\u001b[0;34m\u001b[0m\u001b[0;34m\u001b[0m\u001b[0m\n\u001b[0m",
      "\u001b[0;31mNameError\u001b[0m: name 'dft' is not defined"
     ]
    }
   ],
   "source": [
    "#some degree of certainty for p-value\n",
    "dft.sort_values(by='corr')"
   ]
  },
  {
   "cell_type": "code",
   "execution_count": 48,
   "metadata": {},
   "outputs": [
    {
     "data": {
      "text/html": [
       "<div>\n",
       "<style scoped>\n",
       "    .dataframe tbody tr th:only-of-type {\n",
       "        vertical-align: middle;\n",
       "    }\n",
       "\n",
       "    .dataframe tbody tr th {\n",
       "        vertical-align: top;\n",
       "    }\n",
       "\n",
       "    .dataframe thead th {\n",
       "        text-align: right;\n",
       "    }\n",
       "</style>\n",
       "<table border=\"1\" class=\"dataframe\">\n",
       "  <thead>\n",
       "    <tr style=\"text-align: right;\">\n",
       "      <th></th>\n",
       "      <th>corr</th>\n",
       "      <th>p</th>\n",
       "    </tr>\n",
       "    <tr>\n",
       "      <th>var</th>\n",
       "      <th></th>\n",
       "      <th></th>\n",
       "    </tr>\n",
       "  </thead>\n",
       "  <tbody>\n",
       "    <tr>\n",
       "      <th>num_jobs</th>\n",
       "      <td>0.362020</td>\n",
       "      <td>5.547680e-95</td>\n",
       "    </tr>\n",
       "    <tr>\n",
       "      <th>Employed</th>\n",
       "      <td>0.361413</td>\n",
       "      <td>1.199712e-94</td>\n",
       "    </tr>\n",
       "    <tr>\n",
       "      <th>labor_Force</th>\n",
       "      <td>0.361131</td>\n",
       "      <td>1.714384e-94</td>\n",
       "    </tr>\n",
       "    <tr>\n",
       "      <th>population</th>\n",
       "      <td>0.357344</td>\n",
       "      <td>2.010930e-92</td>\n",
       "    </tr>\n",
       "    <tr>\n",
       "      <th>total_personal_income_thous</th>\n",
       "      <td>0.355408</td>\n",
       "      <td>2.242851e-91</td>\n",
       "    </tr>\n",
       "    <tr>\n",
       "      <th>avg_sal</th>\n",
       "      <td>0.350103</td>\n",
       "      <td>1.524162e-88</td>\n",
       "    </tr>\n",
       "    <tr>\n",
       "      <th>Unemployed</th>\n",
       "      <td>0.349195</td>\n",
       "      <td>4.590544e-88</td>\n",
       "    </tr>\n",
       "    <tr>\n",
       "      <th>Income/Capita</th>\n",
       "      <td>0.208559</td>\n",
       "      <td>2.770114e-31</td>\n",
       "    </tr>\n",
       "    <tr>\n",
       "      <th>Unemployment_Rate</th>\n",
       "      <td>0.175918</td>\n",
       "      <td>1.353369e-22</td>\n",
       "    </tr>\n",
       "    <tr>\n",
       "      <th>Farm_income_thousands</th>\n",
       "      <td>0.107341</td>\n",
       "      <td>2.869087e-09</td>\n",
       "    </tr>\n",
       "  </tbody>\n",
       "</table>\n",
       "</div>"
      ],
      "text/plain": [
       "                                 corr             p\n",
       "var                                                \n",
       "num_jobs                     0.362020  5.547680e-95\n",
       "Employed                     0.361413  1.199712e-94\n",
       "labor_Force                  0.361131  1.714384e-94\n",
       "population                   0.357344  2.010930e-92\n",
       "total_personal_income_thous  0.355408  2.242851e-91\n",
       "avg_sal                      0.350103  1.524162e-88\n",
       "Unemployed                   0.349195  4.590544e-88\n",
       "Income/Capita                0.208559  2.770114e-31\n",
       "Unemployment_Rate            0.175918  1.353369e-22\n",
       "Farm_income_thousands        0.107341  2.869087e-09"
      ]
     },
     "execution_count": 48,
     "metadata": {},
     "output_type": "execute_result"
    }
   ],
   "source": [
    "dfh.sort_values(by='corr')"
   ]
  },
  {
   "cell_type": "code",
   "execution_count": 60,
   "metadata": {},
   "outputs": [
    {
     "data": {
      "text/plain": [
       "<matplotlib.axes._subplots.AxesSubplot at 0x7fa32f912ac8>"
      ]
     },
     "execution_count": 60,
     "metadata": {},
     "output_type": "execute_result"
    },
    {
     "data": {
      "image/png": "[encoded data removed]",
      "text/plain": [
       "<Figure size 432x288 with 1 Axes>"
      ]
     },
     "metadata": {
      "needs_background": "light"
     },
     "output_type": "display_data"
    }
   ],
   "source": [
    "#basic plots of correls\n",
    "dfh.plot(kind='bar', use_index=True, y='corr')"
   ]
  },
  {
   "cell_type": "code",
   "execution_count": 61,
   "metadata": {},
   "outputs": [
    {
     "data": {
      "text/plain": [
       "<matplotlib.axes._subplots.AxesSubplot at 0x7fa32f98b2e8>"
      ]
     },
     "execution_count": 61,
     "metadata": {},
     "output_type": "execute_result"
    },
    {
     "data": {
      "image/png": "[encoded data removed]",
      "text/plain": [
       "<Figure size 432x288 with 1 Axes>"
      ]
     },
     "metadata": {
      "needs_background": "light"
     },
     "output_type": "display_data"
    }
   ],
   "source": [
    "dft.plot(kind='bar',use_index=True,y='corr')"
   ]
  },
  {
   "cell_type": "code",
   "execution_count": 54,
   "metadata": {},
   "outputs": [],
   "source": [
    "plt.show()"
   ]
  },
  {
   "cell_type": "code",
   "execution_count": null,
   "metadata": {},
   "outputs": [],
   "source": []
  },
  {
   "cell_type": "code",
   "execution_count": 70,
   "metadata": {},
   "outputs": [
    {
     "data": {
      "text/plain": [
       "count    6092.000000\n",
       "mean        5.206533\n",
       "std         1.822234\n",
       "min         1.700000\n",
       "25%         4.000000\n",
       "50%         4.900000\n",
       "75%         6.100000\n",
       "max        24.100000\n",
       "Name: Unemployment_Rate, dtype: float64"
      ]
     },
     "execution_count": 70,
     "metadata": {},
     "output_type": "execute_result"
    }
   ],
   "source": [
    "pickle['Unemployment_Rate'].describe()"
   ]
  },
  {
   "cell_type": "code",
   "execution_count": 81,
   "metadata": {},
   "outputs": [
    {
     "name": "stderr",
     "output_type": "stream",
     "text": [
      "/home/poxlox/anaconda3/lib/python3.7/site-packages/ipykernel_launcher.py:1: UserWarning: Boolean Series key will be reindexed to match DataFrame index.\n",
      "  \"\"\"Entry point for launching an IPython kernel.\n"
     ]
    }
   ],
   "source": [
    "xx=pickle[['share_vote','party','Unemployment_Rate']][pickle['Unemployment_Rate']>10][pickle['party']=='democrat']"
   ]
  },
  {
   "cell_type": "code",
   "execution_count": 83,
   "metadata": {},
   "outputs": [
    {
     "data": {
      "text/plain": [
       "(0.1309314285913386, 0.3272524555795099)"
      ]
     },
     "execution_count": 83,
     "metadata": {},
     "output_type": "execute_result"
    }
   ],
   "source": [
    "stats.pearsonr(xx['share_vote'],xx['Unemployment_Rate'])"
   ]
  }
 ],
 "metadata": {
  "kernelspec": {
   "display_name": "Python 3",
   "language": "python",
   "name": "python3"
  },
  "language_info": {
   "codemirror_mode": {
    "name": "ipython",
    "version": 3
   },
   "file_extension": ".py",
   "mimetype": "text/x-python",
   "name": "python",
   "nbconvert_exporter": "python",
   "pygments_lexer": "ipython3",
   "version": "3.7.3"
  }
 },
 "nbformat": 4,
 "nbformat_minor": 2
}
