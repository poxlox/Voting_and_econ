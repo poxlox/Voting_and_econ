{
 "cells": [
  {
   "cell_type": "code",
   "execution_count": 149,
   "metadata": {},
   "outputs": [],
   "source": [
    "import pandas as pd\n",
    "import os\n",
    "import scipy.stats as stats\n",
    "import matplotlib.pyplot as plt\n",
    "%matplotlib inline"
   ]
  },
  {
   "cell_type": "code",
   "execution_count": 150,
   "metadata": {},
   "outputs": [],
   "source": [
    "candidates={'2016':('Trump','Hillary'),'2012':('Romney','Obama'),\n",
    "            '2008':('McCain','Obama'),'2004':('Bush','Kerry'),'2000':('Bush','Gore')}"
   ]
  },
  {
   "cell_type": "code",
   "execution_count": 151,
   "metadata": {},
   "outputs": [
    {
     "name": "stdout",
     "output_type": "stream",
     "text": [
      "year of interest: 2008\n"
     ]
    }
   ],
   "source": [
    "yr=input('year of interest: ')"
   ]
  },
  {
   "cell_type": "code",
   "execution_count": null,
   "metadata": {},
   "outputs": [],
   "source": [
    "###creating unmodified tables"
   ]
  },
  {
   "cell_type": "code",
   "execution_count": 152,
   "metadata": {},
   "outputs": [],
   "source": [
    "df=pd.read_pickle(f'files/table{yr}.pkl')\n",
    "unmodified=df"
   ]
  },
  {
   "cell_type": "code",
   "execution_count": 153,
   "metadata": {
    "scrolled": true
   },
   "outputs": [
    {
     "data": {
      "text/plain": [
       "Index(['year', 'state', 'county', 'GeoFips', 'candidate', 'party',\n",
       "       'candidatevotes', 'totalvotes', 'num_jobs', 'Farm_income_thousands',\n",
       "       'Income/Capita', 'population', 'avg_sal', 'labor_Force', 'Employed',\n",
       "       'Unemployed', 'Unemployment_Rate'],\n",
       "      dtype='object')"
      ]
     },
     "execution_count": 153,
     "metadata": {},
     "output_type": "execute_result"
    }
   ],
   "source": [
    "cols=df.columns\n",
    "cols"
   ]
  },
  {
   "cell_type": "code",
   "execution_count": 154,
   "metadata": {},
   "outputs": [],
   "source": [
    "df=df.drop(labels=['Employed', 'Unemployed','year','county','candidate','GeoFips'],axis=1)"
   ]
  },
  {
   "cell_type": "code",
   "execution_count": 155,
   "metadata": {
    "scrolled": false
   },
   "outputs": [
    {
     "data": {
      "text/plain": [
       "Index(['state', 'party', 'candidatevotes', 'totalvotes', 'num_jobs',\n",
       "       'Farm_income_thousands', 'Income/Capita', 'population', 'avg_sal',\n",
       "       'labor_Force', 'Unemployment_Rate'],\n",
       "      dtype='object')"
      ]
     },
     "execution_count": 155,
     "metadata": {},
     "output_type": "execute_result"
    }
   ],
   "source": [
    "df.columns"
   ]
  },
  {
   "cell_type": "code",
   "execution_count": 156,
   "metadata": {},
   "outputs": [],
   "source": [
    "#demographic accuracy check on data\n",
    "#checking for loss"
   ]
  },
  {
   "cell_type": "code",
   "execution_count": 157,
   "metadata": {},
   "outputs": [],
   "source": [
    "#arbitrary split\n",
    "# dft=df[df['party']=='republican']"
   ]
  },
  {
   "cell_type": "code",
   "execution_count": 158,
   "metadata": {},
   "outputs": [],
   "source": [
    "# dft['population'].sum()\n",
    "# lost ~6mil"
   ]
  },
  {
   "cell_type": "code",
   "execution_count": 159,
   "metadata": {},
   "outputs": [],
   "source": [
    "# income/capita and avg_sal was found to be different despite mild relation\n",
    "# df['ISdiff']=df['Income/Capita']-df['avg_sal']"
   ]
  },
  {
   "cell_type": "code",
   "execution_count": 160,
   "metadata": {},
   "outputs": [],
   "source": [
    "#drop more useless columns\n",
    "#which columns are related to each other?\n",
    "##Employed, Unemployed, Unemployment_Rate, labor_Force\n",
    "##Income/Capita, avg_sal (mild relation)\n",
    "#STAY\n",
    "## Farm_income_thousands, Income/Capita, population, avg_sal, labor_Force, Unemployment_Rate\n",
    "#GO\n",
    "##total_personal_income_thous, Employed, Unemployed"
   ]
  },
  {
   "cell_type": "code",
   "execution_count": 161,
   "metadata": {
    "scrolled": true
   },
   "outputs": [],
   "source": [
    "# no alaska\n",
    "# dft['state'].unique()"
   ]
  },
  {
   "cell_type": "code",
   "execution_count": 162,
   "metadata": {},
   "outputs": [],
   "source": [
    "# tested some defiations by state\n",
    "# s=dft.groupby(by=['state']).sum()"
   ]
  },
  {
   "cell_type": "code",
   "execution_count": null,
   "metadata": {},
   "outputs": [],
   "source": []
  },
  {
   "cell_type": "code",
   "execution_count": 163,
   "metadata": {},
   "outputs": [],
   "source": [
    "#proceceed assuming loss is acceptable"
   ]
  },
  {
   "cell_type": "code",
   "execution_count": 164,
   "metadata": {},
   "outputs": [],
   "source": [
    "#create vote share and drop others\n",
    "df['share_vote']=df['candidatevotes']/df['totalvotes']\n",
    "df=df.drop(labels=['candidatevotes','totalvotes'], axis=1)"
   ]
  },
  {
   "cell_type": "code",
   "execution_count": 165,
   "metadata": {},
   "outputs": [],
   "source": [
    "#split by candidate"
   ]
  },
  {
   "cell_type": "code",
   "execution_count": 166,
   "metadata": {},
   "outputs": [],
   "source": [
    "dfR=df[df['party']=='republican']"
   ]
  },
  {
   "cell_type": "code",
   "execution_count": 167,
   "metadata": {},
   "outputs": [],
   "source": [
    "dfD=df[df['party']=='democrat']"
   ]
  },
  {
   "cell_type": "code",
   "execution_count": 168,
   "metadata": {
    "scrolled": true
   },
   "outputs": [
    {
     "data": {
      "text/plain": [
       "Index(['state', 'party', 'num_jobs', 'Farm_income_thousands', 'Income/Capita',\n",
       "       'population', 'avg_sal', 'labor_Force', 'Unemployment_Rate',\n",
       "       'share_vote'],\n",
       "      dtype='object')"
      ]
     },
     "execution_count": 168,
     "metadata": {},
     "output_type": "execute_result"
    }
   ],
   "source": [
    "df.columns"
   ]
  },
  {
   "cell_type": "code",
   "execution_count": 169,
   "metadata": {},
   "outputs": [],
   "source": [
    "# #print view\n",
    "# for x in df.columns[###]:\n",
    "#     t=stats.pearsonr(df16T['share_vote'], df16T[x])\n",
    "#     h=stats.pearsonr(df16H['share_vote'], df16H[x])\n",
    "#     print(f'the pearson corr and p-val for Tvotes and {x} is {t}')\n",
    "#     print(f'the pearson corr and p-val for Hvotes and {x} is {h}')"
   ]
  },
  {
   "cell_type": "code",
   "execution_count": 170,
   "metadata": {},
   "outputs": [],
   "source": [
    "#creating dataframes for each candidate\n",
    "rep=[]\n",
    "dem=[]\n",
    "for x in df.columns[2:-1]:\n",
    "    t=stats.pearsonr(dfR['share_vote'], dfR[x])\n",
    "    rep.append([t[0],t[1],x])\n",
    "    h=stats.pearsonr(dfD['share_vote'], dfD[x])\n",
    "    dem.append([h[0],h[1],x])"
   ]
  },
  {
   "cell_type": "code",
   "execution_count": 171,
   "metadata": {},
   "outputs": [],
   "source": [
    "dfr=pd.DataFrame(rep)\n",
    "dfr=dfr.rename(columns={0:'corr',1:'p',2:'var'})\n",
    "dfr.set_index('var',inplace=True)"
   ]
  },
  {
   "cell_type": "code",
   "execution_count": 172,
   "metadata": {},
   "outputs": [],
   "source": [
    "dfd=pd.DataFrame(dem)\n",
    "dfd=dfd.rename(columns={0:'corr',1:'p',2:'var'})\n",
    "dfd.set_index('var',inplace=True)"
   ]
  },
  {
   "cell_type": "code",
   "execution_count": 173,
   "metadata": {
    "scrolled": true
   },
   "outputs": [
    {
     "data": {
      "text/html": [
       "<div>\n",
       "<style scoped>\n",
       "    .dataframe tbody tr th:only-of-type {\n",
       "        vertical-align: middle;\n",
       "    }\n",
       "\n",
       "    .dataframe tbody tr th {\n",
       "        vertical-align: top;\n",
       "    }\n",
       "\n",
       "    .dataframe thead th {\n",
       "        text-align: right;\n",
       "    }\n",
       "</style>\n",
       "<table border=\"1\" class=\"dataframe\">\n",
       "  <thead>\n",
       "    <tr style=\"text-align: right;\">\n",
       "      <th></th>\n",
       "      <th>corr</th>\n",
       "      <th>p</th>\n",
       "    </tr>\n",
       "    <tr>\n",
       "      <th>var</th>\n",
       "      <th></th>\n",
       "      <th></th>\n",
       "    </tr>\n",
       "  </thead>\n",
       "  <tbody>\n",
       "    <tr>\n",
       "      <th>Unemployment_Rate</th>\n",
       "      <td>-0.294129</td>\n",
       "      <td>7.583718e-62</td>\n",
       "    </tr>\n",
       "    <tr>\n",
       "      <th>avg_sal</th>\n",
       "      <td>-0.282589</td>\n",
       "      <td>4.961444e-57</td>\n",
       "    </tr>\n",
       "    <tr>\n",
       "      <th>num_jobs</th>\n",
       "      <td>-0.265951</td>\n",
       "      <td>1.760713e-50</td>\n",
       "    </tr>\n",
       "    <tr>\n",
       "      <th>labor_Force</th>\n",
       "      <td>-0.259285</td>\n",
       "      <td>5.523189e-48</td>\n",
       "    </tr>\n",
       "    <tr>\n",
       "      <th>population</th>\n",
       "      <td>-0.256864</td>\n",
       "      <td>4.279338e-47</td>\n",
       "    </tr>\n",
       "    <tr>\n",
       "      <th>Income/Capita</th>\n",
       "      <td>-0.143986</td>\n",
       "      <td>1.404894e-15</td>\n",
       "    </tr>\n",
       "    <tr>\n",
       "      <th>Farm_income_thousands</th>\n",
       "      <td>-0.097597</td>\n",
       "      <td>6.771326e-08</td>\n",
       "    </tr>\n",
       "  </tbody>\n",
       "</table>\n",
       "</div>"
      ],
      "text/plain": [
       "                           corr             p\n",
       "var                                          \n",
       "Unemployment_Rate     -0.294129  7.583718e-62\n",
       "avg_sal               -0.282589  4.961444e-57\n",
       "num_jobs              -0.265951  1.760713e-50\n",
       "labor_Force           -0.259285  5.523189e-48\n",
       "population            -0.256864  4.279338e-47\n",
       "Income/Capita         -0.143986  1.404894e-15\n",
       "Farm_income_thousands -0.097597  6.771326e-08"
      ]
     },
     "execution_count": 173,
     "metadata": {},
     "output_type": "execute_result"
    }
   ],
   "source": [
    "#some degree of certainty for p-value\n",
    "dfr.sort_values(by='corr')"
   ]
  },
  {
   "cell_type": "code",
   "execution_count": 174,
   "metadata": {
    "scrolled": false
   },
   "outputs": [
    {
     "data": {
      "text/html": [
       "<div>\n",
       "<style scoped>\n",
       "    .dataframe tbody tr th:only-of-type {\n",
       "        vertical-align: middle;\n",
       "    }\n",
       "\n",
       "    .dataframe tbody tr th {\n",
       "        vertical-align: top;\n",
       "    }\n",
       "\n",
       "    .dataframe thead th {\n",
       "        text-align: right;\n",
       "    }\n",
       "</style>\n",
       "<table border=\"1\" class=\"dataframe\">\n",
       "  <thead>\n",
       "    <tr style=\"text-align: right;\">\n",
       "      <th></th>\n",
       "      <th>corr</th>\n",
       "      <th>p</th>\n",
       "    </tr>\n",
       "    <tr>\n",
       "      <th>var</th>\n",
       "      <th></th>\n",
       "      <th></th>\n",
       "    </tr>\n",
       "  </thead>\n",
       "  <tbody>\n",
       "    <tr>\n",
       "      <th>Farm_income_thousands</th>\n",
       "      <td>0.094682</td>\n",
       "      <td>1.648332e-07</td>\n",
       "    </tr>\n",
       "    <tr>\n",
       "      <th>Income/Capita</th>\n",
       "      <td>0.146131</td>\n",
       "      <td>5.261284e-16</td>\n",
       "    </tr>\n",
       "    <tr>\n",
       "      <th>population</th>\n",
       "      <td>0.262670</td>\n",
       "      <td>3.043323e-49</td>\n",
       "    </tr>\n",
       "    <tr>\n",
       "      <th>labor_Force</th>\n",
       "      <td>0.264878</td>\n",
       "      <td>4.489412e-50</td>\n",
       "    </tr>\n",
       "    <tr>\n",
       "      <th>num_jobs</th>\n",
       "      <td>0.271457</td>\n",
       "      <td>1.344749e-52</td>\n",
       "    </tr>\n",
       "    <tr>\n",
       "      <th>avg_sal</th>\n",
       "      <td>0.291243</td>\n",
       "      <td>1.275247e-60</td>\n",
       "    </tr>\n",
       "    <tr>\n",
       "      <th>Unemployment_Rate</th>\n",
       "      <td>0.294674</td>\n",
       "      <td>4.435829e-62</td>\n",
       "    </tr>\n",
       "  </tbody>\n",
       "</table>\n",
       "</div>"
      ],
      "text/plain": [
       "                           corr             p\n",
       "var                                          \n",
       "Farm_income_thousands  0.094682  1.648332e-07\n",
       "Income/Capita          0.146131  5.261284e-16\n",
       "population             0.262670  3.043323e-49\n",
       "labor_Force            0.264878  4.489412e-50\n",
       "num_jobs               0.271457  1.344749e-52\n",
       "avg_sal                0.291243  1.275247e-60\n",
       "Unemployment_Rate      0.294674  4.435829e-62"
      ]
     },
     "execution_count": 174,
     "metadata": {},
     "output_type": "execute_result"
    }
   ],
   "source": [
    "dfd.sort_values(by='corr')"
   ]
  },
  {
   "cell_type": "code",
   "execution_count": 175,
   "metadata": {},
   "outputs": [
    {
     "data": {
      "text/plain": [
       "<matplotlib.axes._subplots.AxesSubplot at 0x7fc2c458afd0>"
      ]
     },
     "execution_count": 175,
     "metadata": {},
     "output_type": "execute_result"
    },
    {
     "data": {
      "image/png": "[encoded data removed]",
      "text/plain": [
       "<Figure size 432x288 with 1 Axes>"
      ]
     },
     "metadata": {
      "needs_background": "light"
     },
     "output_type": "display_data"
    }
   ],
   "source": [
    "#basic plots of correls\n",
    "dfd.plot(kind='bar', use_index=True, y='corr')"
   ]
  },
  {
   "cell_type": "code",
   "execution_count": 176,
   "metadata": {},
   "outputs": [
    {
     "data": {
      "text/plain": [
       "<matplotlib.axes._subplots.AxesSubplot at 0x7fc2c450e940>"
      ]
     },
     "execution_count": 176,
     "metadata": {},
     "output_type": "execute_result"
    },
    {
     "data": {
      "image/png": "[encoded data removed]",
      "text/plain": [
       "<Figure size 432x288 with 1 Axes>"
      ]
     },
     "metadata": {
      "needs_background": "light"
     },
     "output_type": "display_data"
    }
   ],
   "source": [
    "dfr.plot(kind='bar',use_index=True,y='corr')"
   ]
  },
  {
   "cell_type": "code",
   "execution_count": 135,
   "metadata": {},
   "outputs": [
    {
     "data": {
      "text/html": [
       "<div>\n",
       "<style scoped>\n",
       "    .dataframe tbody tr th:only-of-type {\n",
       "        vertical-align: middle;\n",
       "    }\n",
       "\n",
       "    .dataframe tbody tr th {\n",
       "        vertical-align: top;\n",
       "    }\n",
       "\n",
       "    .dataframe thead th {\n",
       "        text-align: right;\n",
       "    }\n",
       "</style>\n",
       "<table border=\"1\" class=\"dataframe\">\n",
       "  <thead>\n",
       "    <tr style=\"text-align: right;\">\n",
       "      <th></th>\n",
       "      <th>num_jobs</th>\n",
       "      <th>Farm_income_thousands</th>\n",
       "      <th>Income/Capita</th>\n",
       "      <th>population</th>\n",
       "      <th>avg_sal</th>\n",
       "      <th>labor_Force</th>\n",
       "      <th>Unemployment_Rate</th>\n",
       "      <th>share_vote</th>\n",
       "    </tr>\n",
       "  </thead>\n",
       "  <tbody>\n",
       "    <tr>\n",
       "      <th>num_jobs</th>\n",
       "      <td>1.000000</td>\n",
       "      <td>0.155249</td>\n",
       "      <td>0.309075</td>\n",
       "      <td>0.971440</td>\n",
       "      <td>0.403071</td>\n",
       "      <td>0.978019</td>\n",
       "      <td>-0.059344</td>\n",
       "      <td>-0.359901</td>\n",
       "    </tr>\n",
       "    <tr>\n",
       "      <th>Farm_income_thousands</th>\n",
       "      <td>0.155249</td>\n",
       "      <td>1.000000</td>\n",
       "      <td>0.084952</td>\n",
       "      <td>0.188306</td>\n",
       "      <td>0.184710</td>\n",
       "      <td>0.179188</td>\n",
       "      <td>0.071219</td>\n",
       "      <td>-0.122305</td>\n",
       "    </tr>\n",
       "    <tr>\n",
       "      <th>Income/Capita</th>\n",
       "      <td>0.309075</td>\n",
       "      <td>0.084952</td>\n",
       "      <td>1.000000</td>\n",
       "      <td>0.252328</td>\n",
       "      <td>0.575896</td>\n",
       "      <td>0.271631</td>\n",
       "      <td>-0.417103</td>\n",
       "      <td>-0.245794</td>\n",
       "    </tr>\n",
       "    <tr>\n",
       "      <th>population</th>\n",
       "      <td>0.971440</td>\n",
       "      <td>0.188306</td>\n",
       "      <td>0.252328</td>\n",
       "      <td>1.000000</td>\n",
       "      <td>0.362479</td>\n",
       "      <td>0.998123</td>\n",
       "      <td>-0.041989</td>\n",
       "      <td>-0.354568</td>\n",
       "    </tr>\n",
       "    <tr>\n",
       "      <th>avg_sal</th>\n",
       "      <td>0.403071</td>\n",
       "      <td>0.184710</td>\n",
       "      <td>0.575896</td>\n",
       "      <td>0.362479</td>\n",
       "      <td>1.000000</td>\n",
       "      <td>0.374612</td>\n",
       "      <td>-0.153298</td>\n",
       "      <td>-0.375367</td>\n",
       "    </tr>\n",
       "    <tr>\n",
       "      <th>labor_Force</th>\n",
       "      <td>0.978019</td>\n",
       "      <td>0.179188</td>\n",
       "      <td>0.271631</td>\n",
       "      <td>0.998123</td>\n",
       "      <td>0.374612</td>\n",
       "      <td>1.000000</td>\n",
       "      <td>-0.055454</td>\n",
       "      <td>-0.359370</td>\n",
       "    </tr>\n",
       "    <tr>\n",
       "      <th>Unemployment_Rate</th>\n",
       "      <td>-0.059344</td>\n",
       "      <td>0.071219</td>\n",
       "      <td>-0.417103</td>\n",
       "      <td>-0.041989</td>\n",
       "      <td>-0.153298</td>\n",
       "      <td>-0.055454</td>\n",
       "      <td>1.000000</td>\n",
       "      <td>-0.114435</td>\n",
       "    </tr>\n",
       "    <tr>\n",
       "      <th>share_vote</th>\n",
       "      <td>-0.359901</td>\n",
       "      <td>-0.122305</td>\n",
       "      <td>-0.245794</td>\n",
       "      <td>-0.354568</td>\n",
       "      <td>-0.375367</td>\n",
       "      <td>-0.359370</td>\n",
       "      <td>-0.114435</td>\n",
       "      <td>1.000000</td>\n",
       "    </tr>\n",
       "  </tbody>\n",
       "</table>\n",
       "</div>"
      ],
      "text/plain": [
       "                       num_jobs  Farm_income_thousands  Income/Capita  \\\n",
       "num_jobs               1.000000               0.155249       0.309075   \n",
       "Farm_income_thousands  0.155249               1.000000       0.084952   \n",
       "Income/Capita          0.309075               0.084952       1.000000   \n",
       "population             0.971440               0.188306       0.252328   \n",
       "avg_sal                0.403071               0.184710       0.575896   \n",
       "labor_Force            0.978019               0.179188       0.271631   \n",
       "Unemployment_Rate     -0.059344               0.071219      -0.417103   \n",
       "share_vote            -0.359901              -0.122305      -0.245794   \n",
       "\n",
       "                       population   avg_sal  labor_Force  Unemployment_Rate  \\\n",
       "num_jobs                 0.971440  0.403071     0.978019          -0.059344   \n",
       "Farm_income_thousands    0.188306  0.184710     0.179188           0.071219   \n",
       "Income/Capita            0.252328  0.575896     0.271631          -0.417103   \n",
       "population               1.000000  0.362479     0.998123          -0.041989   \n",
       "avg_sal                  0.362479  1.000000     0.374612          -0.153298   \n",
       "labor_Force              0.998123  0.374612     1.000000          -0.055454   \n",
       "Unemployment_Rate       -0.041989 -0.153298    -0.055454           1.000000   \n",
       "share_vote              -0.354568 -0.375367    -0.359370          -0.114435   \n",
       "\n",
       "                       share_vote  \n",
       "num_jobs                -0.359901  \n",
       "Farm_income_thousands   -0.122305  \n",
       "Income/Capita           -0.245794  \n",
       "population              -0.354568  \n",
       "avg_sal                 -0.375367  \n",
       "labor_Force             -0.359370  \n",
       "Unemployment_Rate       -0.114435  \n",
       "share_vote               1.000000  "
      ]
     },
     "execution_count": 135,
     "metadata": {},
     "output_type": "execute_result"
    }
   ],
   "source": [
    "dfR.corr()"
   ]
  },
  {
   "cell_type": "code",
   "execution_count": 136,
   "metadata": {},
   "outputs": [
    {
     "data": {
      "text/html": [
       "<div>\n",
       "<style scoped>\n",
       "    .dataframe tbody tr th:only-of-type {\n",
       "        vertical-align: middle;\n",
       "    }\n",
       "\n",
       "    .dataframe tbody tr th {\n",
       "        vertical-align: top;\n",
       "    }\n",
       "\n",
       "    .dataframe thead th {\n",
       "        text-align: right;\n",
       "    }\n",
       "</style>\n",
       "<table border=\"1\" class=\"dataframe\">\n",
       "  <thead>\n",
       "    <tr style=\"text-align: right;\">\n",
       "      <th></th>\n",
       "      <th>num_jobs</th>\n",
       "      <th>Farm_income_thousands</th>\n",
       "      <th>Income/Capita</th>\n",
       "      <th>population</th>\n",
       "      <th>avg_sal</th>\n",
       "      <th>labor_Force</th>\n",
       "      <th>Unemployment_Rate</th>\n",
       "      <th>share_vote</th>\n",
       "    </tr>\n",
       "  </thead>\n",
       "  <tbody>\n",
       "    <tr>\n",
       "      <th>num_jobs</th>\n",
       "      <td>1.000000</td>\n",
       "      <td>0.155249</td>\n",
       "      <td>0.309075</td>\n",
       "      <td>0.971440</td>\n",
       "      <td>0.403071</td>\n",
       "      <td>0.978019</td>\n",
       "      <td>-0.059344</td>\n",
       "      <td>0.362020</td>\n",
       "    </tr>\n",
       "    <tr>\n",
       "      <th>Farm_income_thousands</th>\n",
       "      <td>0.155249</td>\n",
       "      <td>1.000000</td>\n",
       "      <td>0.084952</td>\n",
       "      <td>0.188306</td>\n",
       "      <td>0.184710</td>\n",
       "      <td>0.179188</td>\n",
       "      <td>0.071219</td>\n",
       "      <td>0.107341</td>\n",
       "    </tr>\n",
       "    <tr>\n",
       "      <th>Income/Capita</th>\n",
       "      <td>0.309075</td>\n",
       "      <td>0.084952</td>\n",
       "      <td>1.000000</td>\n",
       "      <td>0.252328</td>\n",
       "      <td>0.575896</td>\n",
       "      <td>0.271631</td>\n",
       "      <td>-0.417103</td>\n",
       "      <td>0.208559</td>\n",
       "    </tr>\n",
       "    <tr>\n",
       "      <th>population</th>\n",
       "      <td>0.971440</td>\n",
       "      <td>0.188306</td>\n",
       "      <td>0.252328</td>\n",
       "      <td>1.000000</td>\n",
       "      <td>0.362479</td>\n",
       "      <td>0.998123</td>\n",
       "      <td>-0.041989</td>\n",
       "      <td>0.357344</td>\n",
       "    </tr>\n",
       "    <tr>\n",
       "      <th>avg_sal</th>\n",
       "      <td>0.403071</td>\n",
       "      <td>0.184710</td>\n",
       "      <td>0.575896</td>\n",
       "      <td>0.362479</td>\n",
       "      <td>1.000000</td>\n",
       "      <td>0.374612</td>\n",
       "      <td>-0.153298</td>\n",
       "      <td>0.350103</td>\n",
       "    </tr>\n",
       "    <tr>\n",
       "      <th>labor_Force</th>\n",
       "      <td>0.978019</td>\n",
       "      <td>0.179188</td>\n",
       "      <td>0.271631</td>\n",
       "      <td>0.998123</td>\n",
       "      <td>0.374612</td>\n",
       "      <td>1.000000</td>\n",
       "      <td>-0.055454</td>\n",
       "      <td>0.361131</td>\n",
       "    </tr>\n",
       "    <tr>\n",
       "      <th>Unemployment_Rate</th>\n",
       "      <td>-0.059344</td>\n",
       "      <td>0.071219</td>\n",
       "      <td>-0.417103</td>\n",
       "      <td>-0.041989</td>\n",
       "      <td>-0.153298</td>\n",
       "      <td>-0.055454</td>\n",
       "      <td>1.000000</td>\n",
       "      <td>0.175918</td>\n",
       "    </tr>\n",
       "    <tr>\n",
       "      <th>share_vote</th>\n",
       "      <td>0.362020</td>\n",
       "      <td>0.107341</td>\n",
       "      <td>0.208559</td>\n",
       "      <td>0.357344</td>\n",
       "      <td>0.350103</td>\n",
       "      <td>0.361131</td>\n",
       "      <td>0.175918</td>\n",
       "      <td>1.000000</td>\n",
       "    </tr>\n",
       "  </tbody>\n",
       "</table>\n",
       "</div>"
      ],
      "text/plain": [
       "                       num_jobs  Farm_income_thousands  Income/Capita  \\\n",
       "num_jobs               1.000000               0.155249       0.309075   \n",
       "Farm_income_thousands  0.155249               1.000000       0.084952   \n",
       "Income/Capita          0.309075               0.084952       1.000000   \n",
       "population             0.971440               0.188306       0.252328   \n",
       "avg_sal                0.403071               0.184710       0.575896   \n",
       "labor_Force            0.978019               0.179188       0.271631   \n",
       "Unemployment_Rate     -0.059344               0.071219      -0.417103   \n",
       "share_vote             0.362020               0.107341       0.208559   \n",
       "\n",
       "                       population   avg_sal  labor_Force  Unemployment_Rate  \\\n",
       "num_jobs                 0.971440  0.403071     0.978019          -0.059344   \n",
       "Farm_income_thousands    0.188306  0.184710     0.179188           0.071219   \n",
       "Income/Capita            0.252328  0.575896     0.271631          -0.417103   \n",
       "population               1.000000  0.362479     0.998123          -0.041989   \n",
       "avg_sal                  0.362479  1.000000     0.374612          -0.153298   \n",
       "labor_Force              0.998123  0.374612     1.000000          -0.055454   \n",
       "Unemployment_Rate       -0.041989 -0.153298    -0.055454           1.000000   \n",
       "share_vote               0.357344  0.350103     0.361131           0.175918   \n",
       "\n",
       "                       share_vote  \n",
       "num_jobs                 0.362020  \n",
       "Farm_income_thousands    0.107341  \n",
       "Income/Capita            0.208559  \n",
       "population               0.357344  \n",
       "avg_sal                  0.350103  \n",
       "labor_Force              0.361131  \n",
       "Unemployment_Rate        0.175918  \n",
       "share_vote               1.000000  "
      ]
     },
     "execution_count": 136,
     "metadata": {},
     "output_type": "execute_result"
    }
   ],
   "source": [
    "dfD.corr()"
   ]
  },
  {
   "cell_type": "code",
   "execution_count": 137,
   "metadata": {},
   "outputs": [],
   "source": [
    "# pd.plotting.scatter_matrix(dfR,figsize=(15,15))\n",
    "# plt.show()"
   ]
  },
  {
   "cell_type": "code",
   "execution_count": 138,
   "metadata": {},
   "outputs": [],
   "source": [
    "# pd.plotting.scatter_matrix(dfD,figsize=(15,15))\n",
    "# plt.show()"
   ]
  },
  {
   "cell_type": "code",
   "execution_count": 139,
   "metadata": {},
   "outputs": [],
   "source": [
    "dfr.to_pickle(f'files/Rcorr{candidates[yr][0]}{yr[2:]}.pkl')"
   ]
  },
  {
   "cell_type": "code",
   "execution_count": 140,
   "metadata": {},
   "outputs": [],
   "source": [
    "dfd.to_pickle(f'files/Dcorr{candidates[yr][1]}{yr[2:]}.pkl')"
   ]
  },
  {
   "cell_type": "code",
   "execution_count": 177,
   "metadata": {},
   "outputs": [
    {
     "data": {
      "text/plain": [
       "count    2138.000000\n",
       "mean        5.608934\n",
       "std         1.951971\n",
       "min         1.300000\n",
       "25%         4.100000\n",
       "50%         5.500000\n",
       "75%         6.800000\n",
       "max        16.000000\n",
       "Name: Unemployment_Rate, dtype: float64"
      ]
     },
     "execution_count": 177,
     "metadata": {},
     "output_type": "execute_result"
    }
   ],
   "source": [
    "dfR[dfR['share_vote']>.5]['Unemployment_Rate'].describe()"
   ]
  },
  {
   "cell_type": "code",
   "execution_count": 178,
   "metadata": {},
   "outputs": [
    {
     "data": {
      "text/plain": [
       "count    775.000000\n",
       "mean       6.313935\n",
       "std        2.156580\n",
       "min        2.100000\n",
       "25%        4.800000\n",
       "50%        5.900000\n",
       "75%        7.400000\n",
       "max       22.600000\n",
       "Name: Unemployment_Rate, dtype: float64"
      ]
     },
     "execution_count": 178,
     "metadata": {},
     "output_type": "execute_result"
    }
   ],
   "source": [
    "dfD[dfD['share_vote']>.5]['Unemployment_Rate'].describe()"
   ]
  },
  {
   "cell_type": "code",
   "execution_count": 144,
   "metadata": {
    "scrolled": true
   },
   "outputs": [
    {
     "data": {
      "text/plain": [
       "state                    3046\n",
       "party                    3046\n",
       "num_jobs                 3046\n",
       "Farm_income_thousands    3046\n",
       "Income/Capita            3046\n",
       "population               3046\n",
       "avg_sal                  3046\n",
       "labor_Force              3046\n",
       "Unemployment_Rate        3046\n",
       "share_vote               3046\n",
       "dtype: int64"
      ]
     },
     "execution_count": 144,
     "metadata": {},
     "output_type": "execute_result"
    }
   ],
   "source": [
    "dfD.count()"
   ]
  },
  {
   "cell_type": "code",
   "execution_count": null,
   "metadata": {},
   "outputs": [],
   "source": []
  }
 ],
 "metadata": {
  "kernelspec": {
   "display_name": "Python 3",
   "language": "python",
   "name": "python3"
  },
  "language_info": {
   "codemirror_mode": {
    "name": "ipython",
    "version": 3
   },
   "file_extension": ".py",
   "mimetype": "text/x-python",
   "name": "python",
   "nbconvert_exporter": "python",
   "pygments_lexer": "ipython3",
   "version": "3.7.3"
  }
 },
 "nbformat": 4,
 "nbformat_minor": 2
}
